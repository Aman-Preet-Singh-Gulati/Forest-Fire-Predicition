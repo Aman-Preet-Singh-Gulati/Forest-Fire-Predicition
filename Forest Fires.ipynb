{
 "cells": [
  {
   "cell_type": "markdown",
   "metadata": {},
   "source": [
    "## Forest Fire prediction using machine learning"
   ]
  },
  {
   "cell_type": "markdown",
   "metadata": {},
   "source": [
    "### What does this article entails?\n",
    "Forest, bush or vegeterian fire, can be described as any uncontrolled and non-prescribed combustion or burning of plants in a natural setting such as a forest, grassland, etc. In this article we are not determining if a forest fire will take place or not, we are predicting the confidence of the forest fire based on some attributes."
   ]
  },
  {
   "cell_type": "markdown",
   "metadata": {},
   "source": [
    "### Why we need a forest fire predictor?\n",
    "\n",
    "Well the first question arise that why we even need Machine learning to predict forest fire in that particular area?\n",
    "So, yes the question is valid that inspite of having the experienced forest department who have been dealing with these issues for a long time why is there need of ML, having said that answer is quite simple that the experienced forest department can check on 3-4 paramters from their human mind but ML on other hand can handle the numerous paramters whether it can be latitude, longitude, satellite, version and what not, so dealing with this multi-relationship of parameter that are responsible for fire in forest we do need ML for sure!  "
   ]
  },
  {
   "cell_type": "markdown",
   "metadata": {},
   "source": [
    "### Table of content\n",
    "\n",
    "1. Importing necessary libraries\n",
    "2. Exploratory data analysis\n",
    "3. Data cleaning\n",
    "4. Model development (RandomForestRegressor)\n",
    "5. Tuning the model (RandomSearchCV)\n",
    "6. bz2 module (big bonus) "
   ]
  },
  {
   "cell_type": "code",
   "execution_count": 3,
   "metadata": {
    "id": "NWD9wAxO-EZz"
   },
   "outputs": [],
   "source": [
    "import datetime as dt\n",
    "\n",
    "import pandas as pd\n",
    "import numpy as np\n",
    "import seaborn as sns\n",
    "import matplotlib.pyplot as plt\n",
    "%matplotlib inline \n",
    "\n",
    "from sklearn.model_selection import train_test_split\n",
    "from sklearn.metrics import accuracy_score, classification_report\n",
    "from sklearn.ensemble import RandomForestRegressor"
   ]
  },
  {
   "cell_type": "markdown",
   "metadata": {},
   "source": [
    "### Reading dataset (.csv)"
   ]
  },
  {
   "cell_type": "code",
   "execution_count": 4,
   "metadata": {
    "colab": {
     "base_uri": "https://localhost:8080/",
     "height": 206
    },
    "executionInfo": {
     "elapsed": 651,
     "status": "ok",
     "timestamp": 1624466626401,
     "user": {
      "displayName": "siddharth patra",
      "photoUrl": "https://lh3.googleusercontent.com/a-/AOh14Gjnwsdj5DKa95WHRl25dlQz9L1Bbc10vap4xTNIiA=s64",
      "userId": "01966341811263607507"
     },
     "user_tz": -330
    },
    "id": "ZK5KeZCT-TXm",
    "outputId": "30acc1f1-e3db-4d90-9578-ee1ef12a7b1a"
   },
   "outputs": [
    {
     "data": {
      "text/html": [
       "<div>\n",
       "<style scoped>\n",
       "    .dataframe tbody tr th:only-of-type {\n",
       "        vertical-align: middle;\n",
       "    }\n",
       "\n",
       "    .dataframe tbody tr th {\n",
       "        vertical-align: top;\n",
       "    }\n",
       "\n",
       "    .dataframe thead th {\n",
       "        text-align: right;\n",
       "    }\n",
       "</style>\n",
       "<table border=\"1\" class=\"dataframe\">\n",
       "  <thead>\n",
       "    <tr style=\"text-align: right;\">\n",
       "      <th></th>\n",
       "      <th>latitude</th>\n",
       "      <th>longitude</th>\n",
       "      <th>brightness</th>\n",
       "      <th>scan</th>\n",
       "      <th>track</th>\n",
       "      <th>acq_date</th>\n",
       "      <th>acq_time</th>\n",
       "      <th>satellite</th>\n",
       "      <th>instrument</th>\n",
       "      <th>confidence</th>\n",
       "      <th>version</th>\n",
       "      <th>bright_t31</th>\n",
       "      <th>frp</th>\n",
       "      <th>daynight</th>\n",
       "      <th>type</th>\n",
       "    </tr>\n",
       "  </thead>\n",
       "  <tbody>\n",
       "    <tr>\n",
       "      <th>0</th>\n",
       "      <td>-11.8070</td>\n",
       "      <td>142.0583</td>\n",
       "      <td>313.0</td>\n",
       "      <td>1.0</td>\n",
       "      <td>1.0</td>\n",
       "      <td>2019-08-01</td>\n",
       "      <td>56</td>\n",
       "      <td>Terra</td>\n",
       "      <td>MODIS</td>\n",
       "      <td>48</td>\n",
       "      <td>6.3</td>\n",
       "      <td>297.3</td>\n",
       "      <td>6.6</td>\n",
       "      <td>D</td>\n",
       "      <td>0</td>\n",
       "    </tr>\n",
       "    <tr>\n",
       "      <th>1</th>\n",
       "      <td>-11.7924</td>\n",
       "      <td>142.0850</td>\n",
       "      <td>319.3</td>\n",
       "      <td>1.0</td>\n",
       "      <td>1.0</td>\n",
       "      <td>2019-08-01</td>\n",
       "      <td>56</td>\n",
       "      <td>Terra</td>\n",
       "      <td>MODIS</td>\n",
       "      <td>71</td>\n",
       "      <td>6.3</td>\n",
       "      <td>297.3</td>\n",
       "      <td>11.3</td>\n",
       "      <td>D</td>\n",
       "      <td>0</td>\n",
       "    </tr>\n",
       "    <tr>\n",
       "      <th>2</th>\n",
       "      <td>-12.8398</td>\n",
       "      <td>132.8744</td>\n",
       "      <td>311.6</td>\n",
       "      <td>3.1</td>\n",
       "      <td>1.7</td>\n",
       "      <td>2019-08-01</td>\n",
       "      <td>57</td>\n",
       "      <td>Terra</td>\n",
       "      <td>MODIS</td>\n",
       "      <td>42</td>\n",
       "      <td>6.3</td>\n",
       "      <td>298.7</td>\n",
       "      <td>23.1</td>\n",
       "      <td>D</td>\n",
       "      <td>0</td>\n",
       "    </tr>\n",
       "    <tr>\n",
       "      <th>3</th>\n",
       "      <td>-14.4306</td>\n",
       "      <td>143.3035</td>\n",
       "      <td>310.1</td>\n",
       "      <td>1.1</td>\n",
       "      <td>1.1</td>\n",
       "      <td>2019-08-01</td>\n",
       "      <td>57</td>\n",
       "      <td>Terra</td>\n",
       "      <td>MODIS</td>\n",
       "      <td>33</td>\n",
       "      <td>6.3</td>\n",
       "      <td>296.1</td>\n",
       "      <td>6.5</td>\n",
       "      <td>D</td>\n",
       "      <td>0</td>\n",
       "    </tr>\n",
       "    <tr>\n",
       "      <th>4</th>\n",
       "      <td>-12.4953</td>\n",
       "      <td>131.4897</td>\n",
       "      <td>310.3</td>\n",
       "      <td>4.0</td>\n",
       "      <td>1.9</td>\n",
       "      <td>2019-08-01</td>\n",
       "      <td>57</td>\n",
       "      <td>Terra</td>\n",
       "      <td>MODIS</td>\n",
       "      <td>36</td>\n",
       "      <td>6.3</td>\n",
       "      <td>298.8</td>\n",
       "      <td>27.6</td>\n",
       "      <td>D</td>\n",
       "      <td>0</td>\n",
       "    </tr>\n",
       "  </tbody>\n",
       "</table>\n",
       "</div>"
      ],
      "text/plain": [
       "   latitude  longitude  brightness  scan  track    acq_date  acq_time  \\\n",
       "0  -11.8070   142.0583       313.0   1.0    1.0  2019-08-01        56   \n",
       "1  -11.7924   142.0850       319.3   1.0    1.0  2019-08-01        56   \n",
       "2  -12.8398   132.8744       311.6   3.1    1.7  2019-08-01        57   \n",
       "3  -14.4306   143.3035       310.1   1.1    1.1  2019-08-01        57   \n",
       "4  -12.4953   131.4897       310.3   4.0    1.9  2019-08-01        57   \n",
       "\n",
       "  satellite instrument  confidence  version  bright_t31   frp daynight  type  \n",
       "0     Terra      MODIS          48      6.3       297.3   6.6        D     0  \n",
       "1     Terra      MODIS          71      6.3       297.3  11.3        D     0  \n",
       "2     Terra      MODIS          42      6.3       298.7  23.1        D     0  \n",
       "3     Terra      MODIS          33      6.3       296.1   6.5        D     0  \n",
       "4     Terra      MODIS          36      6.3       298.8  27.6        D     0  "
      ]
     },
     "execution_count": 4,
     "metadata": {},
     "output_type": "execute_result"
    }
   ],
   "source": [
    "forest = pd.read_csv('fire_archive.csv')\n",
    "\n",
    "forest.head()"
   ]
  },
  {
   "cell_type": "markdown",
   "metadata": {},
   "source": [
    "### Data exploration"
   ]
  },
  {
   "cell_type": "code",
   "execution_count": 5,
   "metadata": {
    "colab": {
     "base_uri": "https://localhost:8080/"
    },
    "executionInfo": {
     "elapsed": 612,
     "status": "ok",
     "timestamp": 1624466629474,
     "user": {
      "displayName": "siddharth patra",
      "photoUrl": "https://lh3.googleusercontent.com/a-/AOh14Gjnwsdj5DKa95WHRl25dlQz9L1Bbc10vap4xTNIiA=s64",
      "userId": "01966341811263607507"
     },
     "user_tz": -330
    },
    "id": "xygeQDpT-eFZ",
    "outputId": "15632d97-37a4-4bd7-f632-6ddd0e0b3666"
   },
   "outputs": [
    {
     "data": {
      "text/plain": [
       "(36011, 15)"
      ]
     },
     "execution_count": 5,
     "metadata": {},
     "output_type": "execute_result"
    }
   ],
   "source": [
    "forest.shape\n",
    "# Here we can see that we have 36011 rows and 15 columns in our dataset, obviously we have to do lot of data cleaning but first let's explore this dataset more"
   ]
  },
  {
   "cell_type": "code",
   "execution_count": 5,
   "metadata": {},
   "outputs": [
    {
     "data": {
      "text/plain": [
       "Index(['latitude', 'longitude', 'brightness', 'scan', 'track', 'acq_date',\n",
       "       'acq_time', 'satellite', 'instrument', 'confidence', 'version',\n",
       "       'bright_t31', 'frp', 'daynight', 'type'],\n",
       "      dtype='object')"
      ]
     },
     "execution_count": 5,
     "metadata": {},
     "output_type": "execute_result"
    }
   ],
   "source": [
    "forest.columns"
   ]
  },
  {
   "cell_type": "code",
   "execution_count": 5,
   "metadata": {
    "colab": {
     "base_uri": "https://localhost:8080/"
    },
    "executionInfo": {
     "elapsed": 3,
     "status": "ok",
     "timestamp": 1624466630145,
     "user": {
      "displayName": "siddharth patra",
      "photoUrl": "https://lh3.googleusercontent.com/a-/AOh14Gjnwsdj5DKa95WHRl25dlQz9L1Bbc10vap4xTNIiA=s64",
      "userId": "01966341811263607507"
     },
     "user_tz": -330
    },
    "id": "O5shOy6rDX21",
    "outputId": "f5ff013e-f17c-44fc-ecd0-2725dca947dc"
   },
   "outputs": [
    {
     "data": {
      "text/plain": [
       "latitude      0\n",
       "longitude     0\n",
       "brightness    0\n",
       "scan          0\n",
       "track         0\n",
       "acq_date      0\n",
       "acq_time      0\n",
       "satellite     0\n",
       "instrument    0\n",
       "confidence    0\n",
       "version       0\n",
       "bright_t31    0\n",
       "frp           0\n",
       "daynight      0\n",
       "type          0\n",
       "dtype: int64"
      ]
     },
     "execution_count": 5,
     "metadata": {},
     "output_type": "execute_result"
    }
   ],
   "source": [
    "forest.isnull().sum()\n",
    "# Fortunately we don't have any null values in this dataset"
   ]
  },
  {
   "cell_type": "code",
   "execution_count": 6,
   "metadata": {
    "colab": {
     "base_uri": "https://localhost:8080/",
     "height": 320
    },
    "executionInfo": {
     "elapsed": 11,
     "status": "ok",
     "timestamp": 1624466630554,
     "user": {
      "displayName": "siddharth patra",
      "photoUrl": "https://lh3.googleusercontent.com/a-/AOh14Gjnwsdj5DKa95WHRl25dlQz9L1Bbc10vap4xTNIiA=s64",
      "userId": "01966341811263607507"
     },
     "user_tz": -330
    },
    "id": "E10UcHhyGlqu",
    "outputId": "d2f8ddc7-7181-4a1a-8878-156ee6e28054"
   },
   "outputs": [
    {
     "data": {
      "text/html": [
       "<div>\n",
       "<style scoped>\n",
       "    .dataframe tbody tr th:only-of-type {\n",
       "        vertical-align: middle;\n",
       "    }\n",
       "\n",
       "    .dataframe tbody tr th {\n",
       "        vertical-align: top;\n",
       "    }\n",
       "\n",
       "    .dataframe thead th {\n",
       "        text-align: right;\n",
       "    }\n",
       "</style>\n",
       "<table border=\"1\" class=\"dataframe\">\n",
       "  <thead>\n",
       "    <tr style=\"text-align: right;\">\n",
       "      <th></th>\n",
       "      <th>latitude</th>\n",
       "      <th>longitude</th>\n",
       "      <th>brightness</th>\n",
       "      <th>scan</th>\n",
       "      <th>track</th>\n",
       "      <th>acq_time</th>\n",
       "      <th>confidence</th>\n",
       "      <th>version</th>\n",
       "      <th>bright_t31</th>\n",
       "      <th>frp</th>\n",
       "      <th>type</th>\n",
       "    </tr>\n",
       "  </thead>\n",
       "  <tbody>\n",
       "    <tr>\n",
       "      <th>count</th>\n",
       "      <td>36011.000000</td>\n",
       "      <td>36011.000000</td>\n",
       "      <td>36011.000000</td>\n",
       "      <td>36011.000000</td>\n",
       "      <td>36011.000000</td>\n",
       "      <td>36011.000000</td>\n",
       "      <td>36011.000000</td>\n",
       "      <td>3.601100e+04</td>\n",
       "      <td>36011.000000</td>\n",
       "      <td>36011.000000</td>\n",
       "      <td>36011.000000</td>\n",
       "    </tr>\n",
       "    <tr>\n",
       "      <th>mean</th>\n",
       "      <td>-19.100962</td>\n",
       "      <td>138.931446</td>\n",
       "      <td>328.750696</td>\n",
       "      <td>1.620905</td>\n",
       "      <td>1.215281</td>\n",
       "      <td>600.025798</td>\n",
       "      <td>67.551387</td>\n",
       "      <td>6.300000e+00</td>\n",
       "      <td>301.339138</td>\n",
       "      <td>51.132176</td>\n",
       "      <td>0.019439</td>\n",
       "    </tr>\n",
       "    <tr>\n",
       "      <th>std</th>\n",
       "      <td>7.265777</td>\n",
       "      <td>9.261400</td>\n",
       "      <td>18.992808</td>\n",
       "      <td>0.813764</td>\n",
       "      <td>0.247852</td>\n",
       "      <td>548.369111</td>\n",
       "      <td>23.179946</td>\n",
       "      <td>3.728625e-12</td>\n",
       "      <td>9.724462</td>\n",
       "      <td>92.280112</td>\n",
       "      <td>0.198326</td>\n",
       "    </tr>\n",
       "    <tr>\n",
       "      <th>min</th>\n",
       "      <td>-42.762800</td>\n",
       "      <td>114.104300</td>\n",
       "      <td>300.000000</td>\n",
       "      <td>1.000000</td>\n",
       "      <td>1.000000</td>\n",
       "      <td>0.000000</td>\n",
       "      <td>0.000000</td>\n",
       "      <td>6.300000e+00</td>\n",
       "      <td>267.000000</td>\n",
       "      <td>0.000000</td>\n",
       "      <td>0.000000</td>\n",
       "    </tr>\n",
       "    <tr>\n",
       "      <th>25%</th>\n",
       "      <td>-26.370250</td>\n",
       "      <td>131.072250</td>\n",
       "      <td>316.500000</td>\n",
       "      <td>1.100000</td>\n",
       "      <td>1.000000</td>\n",
       "      <td>205.000000</td>\n",
       "      <td>52.000000</td>\n",
       "      <td>6.300000e+00</td>\n",
       "      <td>293.600000</td>\n",
       "      <td>13.800000</td>\n",
       "      <td>0.000000</td>\n",
       "    </tr>\n",
       "    <tr>\n",
       "      <th>50%</th>\n",
       "      <td>-15.706500</td>\n",
       "      <td>136.738500</td>\n",
       "      <td>326.400000</td>\n",
       "      <td>1.300000</td>\n",
       "      <td>1.100000</td>\n",
       "      <td>424.000000</td>\n",
       "      <td>70.000000</td>\n",
       "      <td>6.300000e+00</td>\n",
       "      <td>302.400000</td>\n",
       "      <td>25.800000</td>\n",
       "      <td>0.000000</td>\n",
       "    </tr>\n",
       "    <tr>\n",
       "      <th>75%</th>\n",
       "      <td>-13.343600</td>\n",
       "      <td>147.477500</td>\n",
       "      <td>336.700000</td>\n",
       "      <td>1.900000</td>\n",
       "      <td>1.300000</td>\n",
       "      <td>600.000000</td>\n",
       "      <td>86.000000</td>\n",
       "      <td>6.300000e+00</td>\n",
       "      <td>308.600000</td>\n",
       "      <td>52.800000</td>\n",
       "      <td>0.000000</td>\n",
       "    </tr>\n",
       "    <tr>\n",
       "      <th>max</th>\n",
       "      <td>-10.072600</td>\n",
       "      <td>153.490400</td>\n",
       "      <td>504.400000</td>\n",
       "      <td>4.800000</td>\n",
       "      <td>2.000000</td>\n",
       "      <td>2359.000000</td>\n",
       "      <td>100.000000</td>\n",
       "      <td>6.300000e+00</td>\n",
       "      <td>400.100000</td>\n",
       "      <td>3679.500000</td>\n",
       "      <td>3.000000</td>\n",
       "    </tr>\n",
       "  </tbody>\n",
       "</table>\n",
       "</div>"
      ],
      "text/plain": [
       "           latitude     longitude    brightness          scan         track  \\\n",
       "count  36011.000000  36011.000000  36011.000000  36011.000000  36011.000000   \n",
       "mean     -19.100962    138.931446    328.750696      1.620905      1.215281   \n",
       "std        7.265777      9.261400     18.992808      0.813764      0.247852   \n",
       "min      -42.762800    114.104300    300.000000      1.000000      1.000000   \n",
       "25%      -26.370250    131.072250    316.500000      1.100000      1.000000   \n",
       "50%      -15.706500    136.738500    326.400000      1.300000      1.100000   \n",
       "75%      -13.343600    147.477500    336.700000      1.900000      1.300000   \n",
       "max      -10.072600    153.490400    504.400000      4.800000      2.000000   \n",
       "\n",
       "           acq_time    confidence       version    bright_t31           frp  \\\n",
       "count  36011.000000  36011.000000  3.601100e+04  36011.000000  36011.000000   \n",
       "mean     600.025798     67.551387  6.300000e+00    301.339138     51.132176   \n",
       "std      548.369111     23.179946  3.728625e-12      9.724462     92.280112   \n",
       "min        0.000000      0.000000  6.300000e+00    267.000000      0.000000   \n",
       "25%      205.000000     52.000000  6.300000e+00    293.600000     13.800000   \n",
       "50%      424.000000     70.000000  6.300000e+00    302.400000     25.800000   \n",
       "75%      600.000000     86.000000  6.300000e+00    308.600000     52.800000   \n",
       "max     2359.000000    100.000000  6.300000e+00    400.100000   3679.500000   \n",
       "\n",
       "               type  \n",
       "count  36011.000000  \n",
       "mean       0.019439  \n",
       "std        0.198326  \n",
       "min        0.000000  \n",
       "25%        0.000000  \n",
       "50%        0.000000  \n",
       "75%        0.000000  \n",
       "max        3.000000  "
      ]
     },
     "execution_count": 6,
     "metadata": {},
     "output_type": "execute_result"
    }
   ],
   "source": [
    "forest.describe()"
   ]
  },
  {
   "cell_type": "code",
   "execution_count": 7,
   "metadata": {
    "colab": {
     "base_uri": "https://localhost:8080/",
     "height": 657
    },
    "executionInfo": {
     "elapsed": 2063,
     "status": "ok",
     "timestamp": 1624466632608,
     "user": {
      "displayName": "siddharth patra",
      "photoUrl": "https://lh3.googleusercontent.com/a-/AOh14Gjnwsdj5DKa95WHRl25dlQz9L1Bbc10vap4xTNIiA=s64",
      "userId": "01966341811263607507"
     },
     "user_tz": -330
    },
    "id": "WfpZ0WbDHXQF",
    "outputId": "1338af7f-2682-4dbb-a59b-9e3bec3b0d33"
   },
   "outputs": [
    {
     "data": {
      "text/plain": [
       "<AxesSubplot:>"
      ]
     },
     "execution_count": 7,
     "metadata": {},
     "output_type": "execute_result"
    },
    {
     "data": {
      "image/png": "[encoded data removed]",
      "text/plain": [
       "<Figure size 720x720 with 2 Axes>"
      ]
     },
     "metadata": {
      "needs_background": "light"
     },
     "output_type": "display_data"
    }
   ],
   "source": [
    "plt.figure(figsize=(10, 10))\n",
    "sns.heatmap(forest.corr(),annot=True,cmap='viridis',linewidths=.5)"
   ]
  },
  {
   "cell_type": "markdown",
   "metadata": {},
   "source": [
    "### Data cleaning"
   ]
  },
  {
   "cell_type": "code",
   "execution_count": 8,
   "metadata": {
    "id": "cWnCHKAUHvcg"
   },
   "outputs": [],
   "source": [
    "forest = forest.drop(['track'], axis = 1)"
   ]
  },
  {
   "cell_type": "code",
   "execution_count": 9,
   "metadata": {
    "id": "VtZ8k0O7_HCT"
   },
   "outputs": [],
   "source": [
    "# By the way from the the dataset we are not finding if the forest fire happens or not, we are trying to find the confidence of the forest\n",
    "# fire happening. They may seem to be the same thing but there is a very small difference between them, try to find that :)"
   ]
  },
  {
   "cell_type": "code",
   "execution_count": 10,
   "metadata": {
    "colab": {
     "base_uri": "https://localhost:8080/"
    },
    "executionInfo": {
     "elapsed": 10,
     "status": "ok",
     "timestamp": 1624466632609,
     "user": {
      "displayName": "siddharth patra",
      "photoUrl": "https://lh3.googleusercontent.com/a-/AOh14Gjnwsdj5DKa95WHRl25dlQz9L1Bbc10vap4xTNIiA=s64",
      "userId": "01966341811263607507"
     },
     "user_tz": -330
    },
    "id": "hOSBoB-q_cXe",
    "outputId": "77b88996-b6d6-4f60-a63d-47f85ee8137b"
   },
   "outputs": [
    {
     "name": "stdout",
     "output_type": "stream",
     "text": [
      "The scan column\n",
      "1.0    8284\n",
      "1.1    6000\n",
      "1.2    3021\n",
      "1.3    2412\n",
      "1.4    1848\n",
      "1.5    1610\n",
      "1.6    1451\n",
      "1.7    1281\n",
      "1.8    1041\n",
      "1.9     847\n",
      "2.0     707\n",
      "2.2     691\n",
      "2.1     649\n",
      "2.3     608\n",
      "2.5     468\n",
      "2.4     433\n",
      "2.8     422\n",
      "3.0     402\n",
      "2.7     366\n",
      "2.9     361\n",
      "2.6     347\n",
      "3.1     259\n",
      "3.2     244\n",
      "3.6     219\n",
      "3.4     203\n",
      "3.3     203\n",
      "3.8     189\n",
      "3.9     156\n",
      "4.7     149\n",
      "4.3     137\n",
      "3.5     134\n",
      "3.7     134\n",
      "4.1     120\n",
      "4.6     118\n",
      "4.5     116\n",
      "4.2     108\n",
      "4.0     103\n",
      "4.4     100\n",
      "4.8      70\n",
      "Name: scan, dtype: int64\n",
      "\n",
      "The aqc_time column\n",
      "506     851\n",
      "454     631\n",
      "122     612\n",
      "423     574\n",
      "448     563\n",
      "       ... \n",
      "1558      1\n",
      "635       1\n",
      "1153      1\n",
      "302       1\n",
      "1519      1\n",
      "Name: acq_time, Length: 662, dtype: int64\n",
      "\n",
      "The satellite column\n",
      "Aqua     20541\n",
      "Terra    15470\n",
      "Name: satellite, dtype: int64\n",
      "\n",
      "The instrument column\n",
      "MODIS    36011\n",
      "Name: instrument, dtype: int64\n",
      "\n",
      "The version column\n",
      "6.3    36011\n",
      "Name: version, dtype: int64\n",
      "\n",
      "The daynight column\n",
      "D    28203\n",
      "N     7808\n",
      "Name: daynight, dtype: int64\n",
      "\n"
     ]
    }
   ],
   "source": [
    "# Finding categorical data\n",
    "print(\"The scan column\")\n",
    "print(forest['scan'].value_counts())\n",
    "print()\n",
    "print(\"The aqc_time column\")\n",
    "print(forest['acq_time'].value_counts())\n",
    "print()\n",
    "print(\"The satellite column\")\n",
    "print(forest['satellite'].value_counts())\n",
    "print()\n",
    "print(\"The instrument column\")\n",
    "print(forest['instrument'].value_counts())\n",
    "print()\n",
    "print(\"The version column\")\n",
    "print(forest['version'].value_counts())\n",
    "print()\n",
    "print(\"The daynight column\")\n",
    "print(forest['daynight'].value_counts())\n",
    "print()"
   ]
  },
  {
   "cell_type": "code",
   "execution_count": 11,
   "metadata": {
    "id": "PlAMjUKyAEtz"
   },
   "outputs": [],
   "source": [
    "# From the above data we can see that some columns have just one value reccurring in them, meaning they are not valuable to us\n",
    "# So we will drop them altogether.\n",
    "# Thus only satellite and daynight column are the only categorical type."
   ]
  },
  {
   "cell_type": "code",
   "execution_count": 12,
   "metadata": {
    "id": "NkhRx6gGAm_I"
   },
   "outputs": [],
   "source": [
    "# But we can even use the scan column to restructure it into a categorical data type column. Which we will be doing in just a while."
   ]
  },
  {
   "cell_type": "code",
   "execution_count": 13,
   "metadata": {
    "colab": {
     "base_uri": "https://localhost:8080/",
     "height": 206
    },
    "executionInfo": {
     "elapsed": 9,
     "status": "ok",
     "timestamp": 1624466633726,
     "user": {
      "displayName": "siddharth patra",
      "photoUrl": "https://lh3.googleusercontent.com/a-/AOh14Gjnwsdj5DKa95WHRl25dlQz9L1Bbc10vap4xTNIiA=s64",
      "userId": "01966341811263607507"
     },
     "user_tz": -330
    },
    "id": "sR_mx8WiBAcR",
    "outputId": "b5307fde-f5bb-43c6-b0cc-c3308ec0bbe4"
   },
   "outputs": [
    {
     "data": {
      "text/html": [
       "<div>\n",
       "<style scoped>\n",
       "    .dataframe tbody tr th:only-of-type {\n",
       "        vertical-align: middle;\n",
       "    }\n",
       "\n",
       "    .dataframe tbody tr th {\n",
       "        vertical-align: top;\n",
       "    }\n",
       "\n",
       "    .dataframe thead th {\n",
       "        text-align: right;\n",
       "    }\n",
       "</style>\n",
       "<table border=\"1\" class=\"dataframe\">\n",
       "  <thead>\n",
       "    <tr style=\"text-align: right;\">\n",
       "      <th></th>\n",
       "      <th>latitude</th>\n",
       "      <th>longitude</th>\n",
       "      <th>brightness</th>\n",
       "      <th>scan</th>\n",
       "      <th>acq_date</th>\n",
       "      <th>acq_time</th>\n",
       "      <th>satellite</th>\n",
       "      <th>confidence</th>\n",
       "      <th>bright_t31</th>\n",
       "      <th>frp</th>\n",
       "      <th>daynight</th>\n",
       "      <th>type</th>\n",
       "    </tr>\n",
       "  </thead>\n",
       "  <tbody>\n",
       "    <tr>\n",
       "      <th>0</th>\n",
       "      <td>-11.8070</td>\n",
       "      <td>142.0583</td>\n",
       "      <td>313.0</td>\n",
       "      <td>1.0</td>\n",
       "      <td>2019-08-01</td>\n",
       "      <td>56</td>\n",
       "      <td>Terra</td>\n",
       "      <td>48</td>\n",
       "      <td>297.3</td>\n",
       "      <td>6.6</td>\n",
       "      <td>D</td>\n",
       "      <td>0</td>\n",
       "    </tr>\n",
       "    <tr>\n",
       "      <th>1</th>\n",
       "      <td>-11.7924</td>\n",
       "      <td>142.0850</td>\n",
       "      <td>319.3</td>\n",
       "      <td>1.0</td>\n",
       "      <td>2019-08-01</td>\n",
       "      <td>56</td>\n",
       "      <td>Terra</td>\n",
       "      <td>71</td>\n",
       "      <td>297.3</td>\n",
       "      <td>11.3</td>\n",
       "      <td>D</td>\n",
       "      <td>0</td>\n",
       "    </tr>\n",
       "    <tr>\n",
       "      <th>2</th>\n",
       "      <td>-12.8398</td>\n",
       "      <td>132.8744</td>\n",
       "      <td>311.6</td>\n",
       "      <td>3.1</td>\n",
       "      <td>2019-08-01</td>\n",
       "      <td>57</td>\n",
       "      <td>Terra</td>\n",
       "      <td>42</td>\n",
       "      <td>298.7</td>\n",
       "      <td>23.1</td>\n",
       "      <td>D</td>\n",
       "      <td>0</td>\n",
       "    </tr>\n",
       "    <tr>\n",
       "      <th>3</th>\n",
       "      <td>-14.4306</td>\n",
       "      <td>143.3035</td>\n",
       "      <td>310.1</td>\n",
       "      <td>1.1</td>\n",
       "      <td>2019-08-01</td>\n",
       "      <td>57</td>\n",
       "      <td>Terra</td>\n",
       "      <td>33</td>\n",
       "      <td>296.1</td>\n",
       "      <td>6.5</td>\n",
       "      <td>D</td>\n",
       "      <td>0</td>\n",
       "    </tr>\n",
       "    <tr>\n",
       "      <th>4</th>\n",
       "      <td>-12.4953</td>\n",
       "      <td>131.4897</td>\n",
       "      <td>310.3</td>\n",
       "      <td>4.0</td>\n",
       "      <td>2019-08-01</td>\n",
       "      <td>57</td>\n",
       "      <td>Terra</td>\n",
       "      <td>36</td>\n",
       "      <td>298.8</td>\n",
       "      <td>27.6</td>\n",
       "      <td>D</td>\n",
       "      <td>0</td>\n",
       "    </tr>\n",
       "  </tbody>\n",
       "</table>\n",
       "</div>"
      ],
      "text/plain": [
       "   latitude  longitude  brightness  scan    acq_date  acq_time satellite  \\\n",
       "0  -11.8070   142.0583       313.0   1.0  2019-08-01        56     Terra   \n",
       "1  -11.7924   142.0850       319.3   1.0  2019-08-01        56     Terra   \n",
       "2  -12.8398   132.8744       311.6   3.1  2019-08-01        57     Terra   \n",
       "3  -14.4306   143.3035       310.1   1.1  2019-08-01        57     Terra   \n",
       "4  -12.4953   131.4897       310.3   4.0  2019-08-01        57     Terra   \n",
       "\n",
       "   confidence  bright_t31   frp daynight  type  \n",
       "0          48       297.3   6.6        D     0  \n",
       "1          71       297.3  11.3        D     0  \n",
       "2          42       298.7  23.1        D     0  \n",
       "3          33       296.1   6.5        D     0  \n",
       "4          36       298.8  27.6        D     0  "
      ]
     },
     "execution_count": 13,
     "metadata": {},
     "output_type": "execute_result"
    }
   ],
   "source": [
    "forest = forest.drop(['instrument', 'version'], axis = 1)\n",
    "\n",
    "forest.head()"
   ]
  },
  {
   "cell_type": "code",
   "execution_count": 14,
   "metadata": {
    "colab": {
     "base_uri": "https://localhost:8080/",
     "height": 206
    },
    "executionInfo": {
     "elapsed": 7,
     "status": "ok",
     "timestamp": 1624466633727,
     "user": {
      "displayName": "siddharth patra",
      "photoUrl": "https://lh3.googleusercontent.com/a-/AOh14Gjnwsdj5DKa95WHRl25dlQz9L1Bbc10vap4xTNIiA=s64",
      "userId": "01966341811263607507"
     },
     "user_tz": -330
    },
    "id": "KBjrkSQlDSqN",
    "outputId": "d5819e18-1d12-48b2-e78d-ecccba5dee4f"
   },
   "outputs": [
    {
     "data": {
      "text/html": [
       "<div>\n",
       "<style scoped>\n",
       "    .dataframe tbody tr th:only-of-type {\n",
       "        vertical-align: middle;\n",
       "    }\n",
       "\n",
       "    .dataframe tbody tr th {\n",
       "        vertical-align: top;\n",
       "    }\n",
       "\n",
       "    .dataframe thead th {\n",
       "        text-align: right;\n",
       "    }\n",
       "</style>\n",
       "<table border=\"1\" class=\"dataframe\">\n",
       "  <thead>\n",
       "    <tr style=\"text-align: right;\">\n",
       "      <th></th>\n",
       "      <th>latitude</th>\n",
       "      <th>longitude</th>\n",
       "      <th>brightness</th>\n",
       "      <th>scan</th>\n",
       "      <th>acq_date</th>\n",
       "      <th>acq_time</th>\n",
       "      <th>satellite</th>\n",
       "      <th>confidence</th>\n",
       "      <th>bright_t31</th>\n",
       "      <th>frp</th>\n",
       "      <th>daynight</th>\n",
       "      <th>type</th>\n",
       "    </tr>\n",
       "  </thead>\n",
       "  <tbody>\n",
       "    <tr>\n",
       "      <th>0</th>\n",
       "      <td>-11.8070</td>\n",
       "      <td>142.0583</td>\n",
       "      <td>313.0</td>\n",
       "      <td>1.0</td>\n",
       "      <td>2019-08-01</td>\n",
       "      <td>56</td>\n",
       "      <td>1</td>\n",
       "      <td>48</td>\n",
       "      <td>297.3</td>\n",
       "      <td>6.6</td>\n",
       "      <td>1</td>\n",
       "      <td>0</td>\n",
       "    </tr>\n",
       "    <tr>\n",
       "      <th>1</th>\n",
       "      <td>-11.7924</td>\n",
       "      <td>142.0850</td>\n",
       "      <td>319.3</td>\n",
       "      <td>1.0</td>\n",
       "      <td>2019-08-01</td>\n",
       "      <td>56</td>\n",
       "      <td>1</td>\n",
       "      <td>71</td>\n",
       "      <td>297.3</td>\n",
       "      <td>11.3</td>\n",
       "      <td>1</td>\n",
       "      <td>0</td>\n",
       "    </tr>\n",
       "    <tr>\n",
       "      <th>2</th>\n",
       "      <td>-12.8398</td>\n",
       "      <td>132.8744</td>\n",
       "      <td>311.6</td>\n",
       "      <td>3.1</td>\n",
       "      <td>2019-08-01</td>\n",
       "      <td>57</td>\n",
       "      <td>1</td>\n",
       "      <td>42</td>\n",
       "      <td>298.7</td>\n",
       "      <td>23.1</td>\n",
       "      <td>1</td>\n",
       "      <td>0</td>\n",
       "    </tr>\n",
       "    <tr>\n",
       "      <th>3</th>\n",
       "      <td>-14.4306</td>\n",
       "      <td>143.3035</td>\n",
       "      <td>310.1</td>\n",
       "      <td>1.1</td>\n",
       "      <td>2019-08-01</td>\n",
       "      <td>57</td>\n",
       "      <td>1</td>\n",
       "      <td>33</td>\n",
       "      <td>296.1</td>\n",
       "      <td>6.5</td>\n",
       "      <td>1</td>\n",
       "      <td>0</td>\n",
       "    </tr>\n",
       "    <tr>\n",
       "      <th>4</th>\n",
       "      <td>-12.4953</td>\n",
       "      <td>131.4897</td>\n",
       "      <td>310.3</td>\n",
       "      <td>4.0</td>\n",
       "      <td>2019-08-01</td>\n",
       "      <td>57</td>\n",
       "      <td>1</td>\n",
       "      <td>36</td>\n",
       "      <td>298.8</td>\n",
       "      <td>27.6</td>\n",
       "      <td>1</td>\n",
       "      <td>0</td>\n",
       "    </tr>\n",
       "  </tbody>\n",
       "</table>\n",
       "</div>"
      ],
      "text/plain": [
       "   latitude  longitude  brightness  scan    acq_date  acq_time  satellite  \\\n",
       "0  -11.8070   142.0583       313.0   1.0  2019-08-01        56          1   \n",
       "1  -11.7924   142.0850       319.3   1.0  2019-08-01        56          1   \n",
       "2  -12.8398   132.8744       311.6   3.1  2019-08-01        57          1   \n",
       "3  -14.4306   143.3035       310.1   1.1  2019-08-01        57          1   \n",
       "4  -12.4953   131.4897       310.3   4.0  2019-08-01        57          1   \n",
       "\n",
       "   confidence  bright_t31   frp  daynight  type  \n",
       "0          48       297.3   6.6         1     0  \n",
       "1          71       297.3  11.3         1     0  \n",
       "2          42       298.7  23.1         1     0  \n",
       "3          33       296.1   6.5         1     0  \n",
       "4          36       298.8  27.6         1     0  "
      ]
     },
     "execution_count": 14,
     "metadata": {},
     "output_type": "execute_result"
    }
   ],
   "source": [
    "daynight_map = {\"D\": 1, \"N\": 0}\n",
    "satellite_map = {\"Terra\": 1, \"Aqua\": 0}\n",
    "\n",
    "forest['daynight'] = forest['daynight'].map(daynight_map)\n",
    "forest['satellite'] = forest['satellite'].map(satellite_map)\n",
    "\n",
    "forest.head()"
   ]
  },
  {
   "cell_type": "code",
   "execution_count": 15,
   "metadata": {
    "colab": {
     "base_uri": "https://localhost:8080/"
    },
    "executionInfo": {
     "elapsed": 14,
     "status": "ok",
     "timestamp": 1624466634395,
     "user": {
      "displayName": "siddharth patra",
      "photoUrl": "https://lh3.googleusercontent.com/a-/AOh14Gjnwsdj5DKa95WHRl25dlQz9L1Bbc10vap4xTNIiA=s64",
      "userId": "01966341811263607507"
     },
     "user_tz": -330
    },
    "id": "UdGTmFhfESJg",
    "outputId": "887f3074-6639-44a2-a7f9-adac7e9edb5e"
   },
   "outputs": [
    {
     "data": {
      "text/plain": [
       "0    35666\n",
       "2      335\n",
       "3       10\n",
       "Name: type, dtype: int64"
      ]
     },
     "execution_count": 15,
     "metadata": {},
     "output_type": "execute_result"
    }
   ],
   "source": [
    "# Looking at another columns type\n",
    "forest['type'].value_counts()"
   ]
  },
  {
   "cell_type": "code",
   "execution_count": 16,
   "metadata": {
    "colab": {
     "base_uri": "https://localhost:8080/",
     "height": 206
    },
    "executionInfo": {
     "elapsed": 19,
     "status": "ok",
     "timestamp": 1624466634999,
     "user": {
      "displayName": "siddharth patra",
      "photoUrl": "https://lh3.googleusercontent.com/a-/AOh14Gjnwsdj5DKa95WHRl25dlQz9L1Bbc10vap4xTNIiA=s64",
      "userId": "01966341811263607507"
     },
     "user_tz": -330
    },
    "id": "pz9rHUAiEb18",
    "outputId": "f9bdf5ea-877e-4b16-eab4-23cf9e3948b8"
   },
   "outputs": [
    {
     "data": {
      "text/html": [
       "<div>\n",
       "<style scoped>\n",
       "    .dataframe tbody tr th:only-of-type {\n",
       "        vertical-align: middle;\n",
       "    }\n",
       "\n",
       "    .dataframe tbody tr th {\n",
       "        vertical-align: top;\n",
       "    }\n",
       "\n",
       "    .dataframe thead th {\n",
       "        text-align: right;\n",
       "    }\n",
       "</style>\n",
       "<table border=\"1\" class=\"dataframe\">\n",
       "  <thead>\n",
       "    <tr style=\"text-align: right;\">\n",
       "      <th></th>\n",
       "      <th>latitude</th>\n",
       "      <th>longitude</th>\n",
       "      <th>brightness</th>\n",
       "      <th>scan</th>\n",
       "      <th>acq_date</th>\n",
       "      <th>acq_time</th>\n",
       "      <th>satellite</th>\n",
       "      <th>confidence</th>\n",
       "      <th>bright_t31</th>\n",
       "      <th>frp</th>\n",
       "      <th>daynight</th>\n",
       "      <th>0</th>\n",
       "      <th>2</th>\n",
       "      <th>3</th>\n",
       "    </tr>\n",
       "  </thead>\n",
       "  <tbody>\n",
       "    <tr>\n",
       "      <th>0</th>\n",
       "      <td>-11.8070</td>\n",
       "      <td>142.0583</td>\n",
       "      <td>313.0</td>\n",
       "      <td>1.0</td>\n",
       "      <td>2019-08-01</td>\n",
       "      <td>56</td>\n",
       "      <td>1</td>\n",
       "      <td>48</td>\n",
       "      <td>297.3</td>\n",
       "      <td>6.6</td>\n",
       "      <td>1</td>\n",
       "      <td>1</td>\n",
       "      <td>0</td>\n",
       "      <td>0</td>\n",
       "    </tr>\n",
       "    <tr>\n",
       "      <th>1</th>\n",
       "      <td>-11.7924</td>\n",
       "      <td>142.0850</td>\n",
       "      <td>319.3</td>\n",
       "      <td>1.0</td>\n",
       "      <td>2019-08-01</td>\n",
       "      <td>56</td>\n",
       "      <td>1</td>\n",
       "      <td>71</td>\n",
       "      <td>297.3</td>\n",
       "      <td>11.3</td>\n",
       "      <td>1</td>\n",
       "      <td>1</td>\n",
       "      <td>0</td>\n",
       "      <td>0</td>\n",
       "    </tr>\n",
       "    <tr>\n",
       "      <th>2</th>\n",
       "      <td>-12.8398</td>\n",
       "      <td>132.8744</td>\n",
       "      <td>311.6</td>\n",
       "      <td>3.1</td>\n",
       "      <td>2019-08-01</td>\n",
       "      <td>57</td>\n",
       "      <td>1</td>\n",
       "      <td>42</td>\n",
       "      <td>298.7</td>\n",
       "      <td>23.1</td>\n",
       "      <td>1</td>\n",
       "      <td>1</td>\n",
       "      <td>0</td>\n",
       "      <td>0</td>\n",
       "    </tr>\n",
       "    <tr>\n",
       "      <th>3</th>\n",
       "      <td>-14.4306</td>\n",
       "      <td>143.3035</td>\n",
       "      <td>310.1</td>\n",
       "      <td>1.1</td>\n",
       "      <td>2019-08-01</td>\n",
       "      <td>57</td>\n",
       "      <td>1</td>\n",
       "      <td>33</td>\n",
       "      <td>296.1</td>\n",
       "      <td>6.5</td>\n",
       "      <td>1</td>\n",
       "      <td>1</td>\n",
       "      <td>0</td>\n",
       "      <td>0</td>\n",
       "    </tr>\n",
       "    <tr>\n",
       "      <th>4</th>\n",
       "      <td>-12.4953</td>\n",
       "      <td>131.4897</td>\n",
       "      <td>310.3</td>\n",
       "      <td>4.0</td>\n",
       "      <td>2019-08-01</td>\n",
       "      <td>57</td>\n",
       "      <td>1</td>\n",
       "      <td>36</td>\n",
       "      <td>298.8</td>\n",
       "      <td>27.6</td>\n",
       "      <td>1</td>\n",
       "      <td>1</td>\n",
       "      <td>0</td>\n",
       "      <td>0</td>\n",
       "    </tr>\n",
       "  </tbody>\n",
       "</table>\n",
       "</div>"
      ],
      "text/plain": [
       "   latitude  longitude  brightness  scan    acq_date  acq_time  satellite  \\\n",
       "0  -11.8070   142.0583       313.0   1.0  2019-08-01        56          1   \n",
       "1  -11.7924   142.0850       319.3   1.0  2019-08-01        56          1   \n",
       "2  -12.8398   132.8744       311.6   3.1  2019-08-01        57          1   \n",
       "3  -14.4306   143.3035       310.1   1.1  2019-08-01        57          1   \n",
       "4  -12.4953   131.4897       310.3   4.0  2019-08-01        57          1   \n",
       "\n",
       "   confidence  bright_t31   frp  daynight  0  2  3  \n",
       "0          48       297.3   6.6         1  1  0  0  \n",
       "1          71       297.3  11.3         1  1  0  0  \n",
       "2          42       298.7  23.1         1  1  0  0  \n",
       "3          33       296.1   6.5         1  1  0  0  \n",
       "4          36       298.8  27.6         1  1  0  0  "
      ]
     },
     "execution_count": 16,
     "metadata": {},
     "output_type": "execute_result"
    }
   ],
   "source": [
    "types = pd.get_dummies(forest['type'])\n",
    "forest = pd.concat([forest, types], axis=1)\n",
    "\n",
    "forest = forest.drop(['type'], axis = 1)\n",
    "forest.head()"
   ]
  },
  {
   "cell_type": "code",
   "execution_count": 17,
   "metadata": {
    "id": "FiyPSxSRE6J2"
   },
   "outputs": [],
   "source": [
    "# Renaming columns for better understanding\n",
    "\n",
    "forest = forest.rename(columns={0: 'type_0', 2: 'type_2', 3: 'type_3'})"
   ]
  },
  {
   "cell_type": "code",
   "execution_count": 18,
   "metadata": {
    "colab": {
     "base_uri": "https://localhost:8080/",
     "height": 206
    },
    "executionInfo": {
     "elapsed": 6,
     "status": "ok",
     "timestamp": 1624466635914,
     "user": {
      "displayName": "siddharth patra",
      "photoUrl": "https://lh3.googleusercontent.com/a-/AOh14Gjnwsdj5DKa95WHRl25dlQz9L1Bbc10vap4xTNIiA=s64",
      "userId": "01966341811263607507"
     },
     "user_tz": -330
    },
    "id": "v6UXQ4-SFgPB",
    "outputId": "bce2e6a6-6007-47e8-fa8d-d8297ecee76b"
   },
   "outputs": [
    {
     "data": {
      "text/html": [
       "<div>\n",
       "<style scoped>\n",
       "    .dataframe tbody tr th:only-of-type {\n",
       "        vertical-align: middle;\n",
       "    }\n",
       "\n",
       "    .dataframe tbody tr th {\n",
       "        vertical-align: top;\n",
       "    }\n",
       "\n",
       "    .dataframe thead th {\n",
       "        text-align: right;\n",
       "    }\n",
       "</style>\n",
       "<table border=\"1\" class=\"dataframe\">\n",
       "  <thead>\n",
       "    <tr style=\"text-align: right;\">\n",
       "      <th></th>\n",
       "      <th>latitude</th>\n",
       "      <th>longitude</th>\n",
       "      <th>brightness</th>\n",
       "      <th>scan</th>\n",
       "      <th>acq_date</th>\n",
       "      <th>acq_time</th>\n",
       "      <th>satellite</th>\n",
       "      <th>confidence</th>\n",
       "      <th>bright_t31</th>\n",
       "      <th>frp</th>\n",
       "      <th>daynight</th>\n",
       "      <th>type_0</th>\n",
       "      <th>type_2</th>\n",
       "      <th>type_3</th>\n",
       "      <th>scan_binned</th>\n",
       "    </tr>\n",
       "  </thead>\n",
       "  <tbody>\n",
       "    <tr>\n",
       "      <th>0</th>\n",
       "      <td>-11.8070</td>\n",
       "      <td>142.0583</td>\n",
       "      <td>313.0</td>\n",
       "      <td>1.0</td>\n",
       "      <td>2019-08-01</td>\n",
       "      <td>56</td>\n",
       "      <td>1</td>\n",
       "      <td>48</td>\n",
       "      <td>297.3</td>\n",
       "      <td>6.6</td>\n",
       "      <td>1</td>\n",
       "      <td>1</td>\n",
       "      <td>0</td>\n",
       "      <td>0</td>\n",
       "      <td>1</td>\n",
       "    </tr>\n",
       "    <tr>\n",
       "      <th>1</th>\n",
       "      <td>-11.7924</td>\n",
       "      <td>142.0850</td>\n",
       "      <td>319.3</td>\n",
       "      <td>1.0</td>\n",
       "      <td>2019-08-01</td>\n",
       "      <td>56</td>\n",
       "      <td>1</td>\n",
       "      <td>71</td>\n",
       "      <td>297.3</td>\n",
       "      <td>11.3</td>\n",
       "      <td>1</td>\n",
       "      <td>1</td>\n",
       "      <td>0</td>\n",
       "      <td>0</td>\n",
       "      <td>1</td>\n",
       "    </tr>\n",
       "    <tr>\n",
       "      <th>2</th>\n",
       "      <td>-12.8398</td>\n",
       "      <td>132.8744</td>\n",
       "      <td>311.6</td>\n",
       "      <td>3.1</td>\n",
       "      <td>2019-08-01</td>\n",
       "      <td>57</td>\n",
       "      <td>1</td>\n",
       "      <td>42</td>\n",
       "      <td>298.7</td>\n",
       "      <td>23.1</td>\n",
       "      <td>1</td>\n",
       "      <td>1</td>\n",
       "      <td>0</td>\n",
       "      <td>0</td>\n",
       "      <td>4</td>\n",
       "    </tr>\n",
       "    <tr>\n",
       "      <th>3</th>\n",
       "      <td>-14.4306</td>\n",
       "      <td>143.3035</td>\n",
       "      <td>310.1</td>\n",
       "      <td>1.1</td>\n",
       "      <td>2019-08-01</td>\n",
       "      <td>57</td>\n",
       "      <td>1</td>\n",
       "      <td>33</td>\n",
       "      <td>296.1</td>\n",
       "      <td>6.5</td>\n",
       "      <td>1</td>\n",
       "      <td>1</td>\n",
       "      <td>0</td>\n",
       "      <td>0</td>\n",
       "      <td>2</td>\n",
       "    </tr>\n",
       "    <tr>\n",
       "      <th>4</th>\n",
       "      <td>-12.4953</td>\n",
       "      <td>131.4897</td>\n",
       "      <td>310.3</td>\n",
       "      <td>4.0</td>\n",
       "      <td>2019-08-01</td>\n",
       "      <td>57</td>\n",
       "      <td>1</td>\n",
       "      <td>36</td>\n",
       "      <td>298.8</td>\n",
       "      <td>27.6</td>\n",
       "      <td>1</td>\n",
       "      <td>1</td>\n",
       "      <td>0</td>\n",
       "      <td>0</td>\n",
       "      <td>4</td>\n",
       "    </tr>\n",
       "  </tbody>\n",
       "</table>\n",
       "</div>"
      ],
      "text/plain": [
       "   latitude  longitude  brightness  scan    acq_date  acq_time  satellite  \\\n",
       "0  -11.8070   142.0583       313.0   1.0  2019-08-01        56          1   \n",
       "1  -11.7924   142.0850       319.3   1.0  2019-08-01        56          1   \n",
       "2  -12.8398   132.8744       311.6   3.1  2019-08-01        57          1   \n",
       "3  -14.4306   143.3035       310.1   1.1  2019-08-01        57          1   \n",
       "4  -12.4953   131.4897       310.3   4.0  2019-08-01        57          1   \n",
       "\n",
       "   confidence  bright_t31   frp  daynight  type_0  type_2  type_3 scan_binned  \n",
       "0          48       297.3   6.6         1       1       0       0           1  \n",
       "1          71       297.3  11.3         1       1       0       0           1  \n",
       "2          42       298.7  23.1         1       1       0       0           4  \n",
       "3          33       296.1   6.5         1       1       0       0           2  \n",
       "4          36       298.8  27.6         1       1       0       0           4  "
      ]
     },
     "execution_count": 18,
     "metadata": {},
     "output_type": "execute_result"
    }
   ],
   "source": [
    "# Now I mentioned we will be converting scan column to categorical type, we will be doing this using binning method.\n",
    "# Range for this columns was 1 to 4.8\n",
    "\n",
    "bins = [0, 1, 2, 3, 4, 5]\n",
    "labels = [1,2,3,4,5]\n",
    "forest['scan_binned'] = pd.cut(forest['scan'], bins=bins, labels=labels)\n",
    "\n",
    "forest.head()"
   ]
  },
  {
   "cell_type": "code",
   "execution_count": 19,
   "metadata": {
    "id": "fJIYxn2TIseV"
   },
   "outputs": [],
   "source": [
    "# Converting the datatype to datetype from string or numpy.\n",
    "\n",
    "forest['acq_date'] = pd.to_datetime(forest['acq_date'])"
   ]
  },
  {
   "cell_type": "code",
   "execution_count": 20,
   "metadata": {
    "id": "g-H-wnVKFjJe"
   },
   "outputs": [],
   "source": [
    "# Now we will be dropping scan column and handle date type data - we can extract useful information from these datatypes \n",
    "# just like we do with categorical data.\n",
    "\n",
    "forest = forest.drop(['scan'], axis = 1)"
   ]
  },
  {
   "cell_type": "code",
   "execution_count": 21,
   "metadata": {
    "colab": {
     "base_uri": "https://localhost:8080/",
     "height": 206
    },
    "executionInfo": {
     "elapsed": 5,
     "status": "ok",
     "timestamp": 1624466637106,
     "user": {
      "displayName": "siddharth patra",
      "photoUrl": "https://lh3.googleusercontent.com/a-/AOh14Gjnwsdj5DKa95WHRl25dlQz9L1Bbc10vap4xTNIiA=s64",
      "userId": "01966341811263607507"
     },
     "user_tz": -330
    },
    "id": "oPT5eHoIJWhC",
    "outputId": "7ee91e1d-3ad5-4008-f5d6-a1d25b2c8a24"
   },
   "outputs": [
    {
     "data": {
      "text/html": [
       "<div>\n",
       "<style scoped>\n",
       "    .dataframe tbody tr th:only-of-type {\n",
       "        vertical-align: middle;\n",
       "    }\n",
       "\n",
       "    .dataframe tbody tr th {\n",
       "        vertical-align: top;\n",
       "    }\n",
       "\n",
       "    .dataframe thead th {\n",
       "        text-align: right;\n",
       "    }\n",
       "</style>\n",
       "<table border=\"1\" class=\"dataframe\">\n",
       "  <thead>\n",
       "    <tr style=\"text-align: right;\">\n",
       "      <th></th>\n",
       "      <th>latitude</th>\n",
       "      <th>longitude</th>\n",
       "      <th>brightness</th>\n",
       "      <th>acq_date</th>\n",
       "      <th>acq_time</th>\n",
       "      <th>satellite</th>\n",
       "      <th>confidence</th>\n",
       "      <th>bright_t31</th>\n",
       "      <th>frp</th>\n",
       "      <th>daynight</th>\n",
       "      <th>type_0</th>\n",
       "      <th>type_2</th>\n",
       "      <th>type_3</th>\n",
       "      <th>scan_binned</th>\n",
       "      <th>year</th>\n",
       "    </tr>\n",
       "  </thead>\n",
       "  <tbody>\n",
       "    <tr>\n",
       "      <th>0</th>\n",
       "      <td>-11.8070</td>\n",
       "      <td>142.0583</td>\n",
       "      <td>313.0</td>\n",
       "      <td>2019-08-01</td>\n",
       "      <td>56</td>\n",
       "      <td>1</td>\n",
       "      <td>48</td>\n",
       "      <td>297.3</td>\n",
       "      <td>6.6</td>\n",
       "      <td>1</td>\n",
       "      <td>1</td>\n",
       "      <td>0</td>\n",
       "      <td>0</td>\n",
       "      <td>1</td>\n",
       "      <td>2019</td>\n",
       "    </tr>\n",
       "    <tr>\n",
       "      <th>1</th>\n",
       "      <td>-11.7924</td>\n",
       "      <td>142.0850</td>\n",
       "      <td>319.3</td>\n",
       "      <td>2019-08-01</td>\n",
       "      <td>56</td>\n",
       "      <td>1</td>\n",
       "      <td>71</td>\n",
       "      <td>297.3</td>\n",
       "      <td>11.3</td>\n",
       "      <td>1</td>\n",
       "      <td>1</td>\n",
       "      <td>0</td>\n",
       "      <td>0</td>\n",
       "      <td>1</td>\n",
       "      <td>2019</td>\n",
       "    </tr>\n",
       "    <tr>\n",
       "      <th>2</th>\n",
       "      <td>-12.8398</td>\n",
       "      <td>132.8744</td>\n",
       "      <td>311.6</td>\n",
       "      <td>2019-08-01</td>\n",
       "      <td>57</td>\n",
       "      <td>1</td>\n",
       "      <td>42</td>\n",
       "      <td>298.7</td>\n",
       "      <td>23.1</td>\n",
       "      <td>1</td>\n",
       "      <td>1</td>\n",
       "      <td>0</td>\n",
       "      <td>0</td>\n",
       "      <td>4</td>\n",
       "      <td>2019</td>\n",
       "    </tr>\n",
       "    <tr>\n",
       "      <th>3</th>\n",
       "      <td>-14.4306</td>\n",
       "      <td>143.3035</td>\n",
       "      <td>310.1</td>\n",
       "      <td>2019-08-01</td>\n",
       "      <td>57</td>\n",
       "      <td>1</td>\n",
       "      <td>33</td>\n",
       "      <td>296.1</td>\n",
       "      <td>6.5</td>\n",
       "      <td>1</td>\n",
       "      <td>1</td>\n",
       "      <td>0</td>\n",
       "      <td>0</td>\n",
       "      <td>2</td>\n",
       "      <td>2019</td>\n",
       "    </tr>\n",
       "    <tr>\n",
       "      <th>4</th>\n",
       "      <td>-12.4953</td>\n",
       "      <td>131.4897</td>\n",
       "      <td>310.3</td>\n",
       "      <td>2019-08-01</td>\n",
       "      <td>57</td>\n",
       "      <td>1</td>\n",
       "      <td>36</td>\n",
       "      <td>298.8</td>\n",
       "      <td>27.6</td>\n",
       "      <td>1</td>\n",
       "      <td>1</td>\n",
       "      <td>0</td>\n",
       "      <td>0</td>\n",
       "      <td>4</td>\n",
       "      <td>2019</td>\n",
       "    </tr>\n",
       "  </tbody>\n",
       "</table>\n",
       "</div>"
      ],
      "text/plain": [
       "   latitude  longitude  brightness   acq_date  acq_time  satellite  \\\n",
       "0  -11.8070   142.0583       313.0 2019-08-01        56          1   \n",
       "1  -11.7924   142.0850       319.3 2019-08-01        56          1   \n",
       "2  -12.8398   132.8744       311.6 2019-08-01        57          1   \n",
       "3  -14.4306   143.3035       310.1 2019-08-01        57          1   \n",
       "4  -12.4953   131.4897       310.3 2019-08-01        57          1   \n",
       "\n",
       "   confidence  bright_t31   frp  daynight  type_0  type_2  type_3 scan_binned  \\\n",
       "0          48       297.3   6.6         1       1       0       0           1   \n",
       "1          71       297.3  11.3         1       1       0       0           1   \n",
       "2          42       298.7  23.1         1       1       0       0           4   \n",
       "3          33       296.1   6.5         1       1       0       0           2   \n",
       "4          36       298.8  27.6         1       1       0       0           4   \n",
       "\n",
       "   year  \n",
       "0  2019  \n",
       "1  2019  \n",
       "2  2019  \n",
       "3  2019  \n",
       "4  2019  "
      ]
     },
     "execution_count": 21,
     "metadata": {},
     "output_type": "execute_result"
    }
   ],
   "source": [
    "forest['year'] = forest['acq_date'].dt.year\n",
    "\n",
    "forest.head()"
   ]
  },
  {
   "cell_type": "code",
   "execution_count": 22,
   "metadata": {
    "id": "QB-9VFL7JlUL"
   },
   "outputs": [],
   "source": [
    "forest['month'] = forest['acq_date'].dt.month\n",
    "forest['day'] = forest['acq_date'].dt.day"
   ]
  },
  {
   "cell_type": "code",
   "execution_count": 23,
   "metadata": {
    "colab": {
     "base_uri": "https://localhost:8080/"
    },
    "executionInfo": {
     "elapsed": 2,
     "status": "ok",
     "timestamp": 1624466638242,
     "user": {
      "displayName": "siddharth patra",
      "photoUrl": "https://lh3.googleusercontent.com/a-/AOh14Gjnwsdj5DKa95WHRl25dlQz9L1Bbc10vap4xTNIiA=s64",
      "userId": "01966341811263607507"
     },
     "user_tz": -330
    },
    "id": "bCuQA0xzJ0zX",
    "outputId": "d7f05940-ddc9-4b07-aeef-8d4dd4cdf1d8"
   },
   "outputs": [
    {
     "data": {
      "text/plain": [
       "(36011, 17)"
      ]
     },
     "execution_count": 23,
     "metadata": {},
     "output_type": "execute_result"
    }
   ],
   "source": [
    "forest.shape"
   ]
  },
  {
   "cell_type": "code",
   "execution_count": 24,
   "metadata": {
    "id": "E8qfLwgjJ3I9"
   },
   "outputs": [],
   "source": [
    "# Separating our target varibale:\n",
    "\n",
    "y = forest['confidence']\n",
    "fin = forest.drop(['confidence', 'acq_date', 'acq_time', 'bright_t31', 'type_0'], axis = 1)"
   ]
  },
  {
   "cell_type": "code",
   "execution_count": 25,
   "metadata": {
    "colab": {
     "base_uri": "https://localhost:8080/",
     "height": 655
    },
    "executionInfo": {
     "elapsed": 1350,
     "status": "ok",
     "timestamp": 1624466640812,
     "user": {
      "displayName": "siddharth patra",
      "photoUrl": "https://lh3.googleusercontent.com/a-/AOh14Gjnwsdj5DKa95WHRl25dlQz9L1Bbc10vap4xTNIiA=s64",
      "userId": "01966341811263607507"
     },
     "user_tz": -330
    },
    "id": "P2WANxh0g10m",
    "outputId": "c8006555-4616-4884-d3c7-e222d7d760de"
   },
   "outputs": [
    {
     "data": {
      "text/plain": [
       "<AxesSubplot:>"
      ]
     },
     "execution_count": 25,
     "metadata": {},
     "output_type": "execute_result"
    },
    {
     "data": {
      "image/png": "[encoded data removed]",
      "text/plain": [
       "<Figure size 720x720 with 2 Axes>"
      ]
     },
     "metadata": {
      "needs_background": "light"
     },
     "output_type": "display_data"
    }
   ],
   "source": [
    "plt.figure(figsize=(10, 10))\n",
    "sns.heatmap(fin.corr(),annot=True,cmap='viridis',linewidths=.5)"
   ]
  },
  {
   "cell_type": "code",
   "execution_count": 26,
   "metadata": {
    "colab": {
     "base_uri": "https://localhost:8080/",
     "height": 206
    },
    "executionInfo": {
     "elapsed": 12,
     "status": "ok",
     "timestamp": 1624466640814,
     "user": {
      "displayName": "siddharth patra",
      "photoUrl": "https://lh3.googleusercontent.com/a-/AOh14Gjnwsdj5DKa95WHRl25dlQz9L1Bbc10vap4xTNIiA=s64",
      "userId": "01966341811263607507"
     },
     "user_tz": -330
    },
    "id": "fpwoKDWee2YL",
    "outputId": "61470bd6-973c-46a2-b46e-654c230ff283"
   },
   "outputs": [
    {
     "data": {
      "text/html": [
       "<div>\n",
       "<style scoped>\n",
       "    .dataframe tbody tr th:only-of-type {\n",
       "        vertical-align: middle;\n",
       "    }\n",
       "\n",
       "    .dataframe tbody tr th {\n",
       "        vertical-align: top;\n",
       "    }\n",
       "\n",
       "    .dataframe thead th {\n",
       "        text-align: right;\n",
       "    }\n",
       "</style>\n",
       "<table border=\"1\" class=\"dataframe\">\n",
       "  <thead>\n",
       "    <tr style=\"text-align: right;\">\n",
       "      <th></th>\n",
       "      <th>latitude</th>\n",
       "      <th>longitude</th>\n",
       "      <th>brightness</th>\n",
       "      <th>satellite</th>\n",
       "      <th>frp</th>\n",
       "      <th>daynight</th>\n",
       "      <th>type_2</th>\n",
       "      <th>type_3</th>\n",
       "      <th>scan_binned</th>\n",
       "      <th>year</th>\n",
       "      <th>month</th>\n",
       "      <th>day</th>\n",
       "    </tr>\n",
       "  </thead>\n",
       "  <tbody>\n",
       "    <tr>\n",
       "      <th>0</th>\n",
       "      <td>-11.8070</td>\n",
       "      <td>142.0583</td>\n",
       "      <td>313.0</td>\n",
       "      <td>1</td>\n",
       "      <td>6.6</td>\n",
       "      <td>1</td>\n",
       "      <td>0</td>\n",
       "      <td>0</td>\n",
       "      <td>1</td>\n",
       "      <td>2019</td>\n",
       "      <td>8</td>\n",
       "      <td>1</td>\n",
       "    </tr>\n",
       "    <tr>\n",
       "      <th>1</th>\n",
       "      <td>-11.7924</td>\n",
       "      <td>142.0850</td>\n",
       "      <td>319.3</td>\n",
       "      <td>1</td>\n",
       "      <td>11.3</td>\n",
       "      <td>1</td>\n",
       "      <td>0</td>\n",
       "      <td>0</td>\n",
       "      <td>1</td>\n",
       "      <td>2019</td>\n",
       "      <td>8</td>\n",
       "      <td>1</td>\n",
       "    </tr>\n",
       "    <tr>\n",
       "      <th>2</th>\n",
       "      <td>-12.8398</td>\n",
       "      <td>132.8744</td>\n",
       "      <td>311.6</td>\n",
       "      <td>1</td>\n",
       "      <td>23.1</td>\n",
       "      <td>1</td>\n",
       "      <td>0</td>\n",
       "      <td>0</td>\n",
       "      <td>4</td>\n",
       "      <td>2019</td>\n",
       "      <td>8</td>\n",
       "      <td>1</td>\n",
       "    </tr>\n",
       "    <tr>\n",
       "      <th>3</th>\n",
       "      <td>-14.4306</td>\n",
       "      <td>143.3035</td>\n",
       "      <td>310.1</td>\n",
       "      <td>1</td>\n",
       "      <td>6.5</td>\n",
       "      <td>1</td>\n",
       "      <td>0</td>\n",
       "      <td>0</td>\n",
       "      <td>2</td>\n",
       "      <td>2019</td>\n",
       "      <td>8</td>\n",
       "      <td>1</td>\n",
       "    </tr>\n",
       "    <tr>\n",
       "      <th>4</th>\n",
       "      <td>-12.4953</td>\n",
       "      <td>131.4897</td>\n",
       "      <td>310.3</td>\n",
       "      <td>1</td>\n",
       "      <td>27.6</td>\n",
       "      <td>1</td>\n",
       "      <td>0</td>\n",
       "      <td>0</td>\n",
       "      <td>4</td>\n",
       "      <td>2019</td>\n",
       "      <td>8</td>\n",
       "      <td>1</td>\n",
       "    </tr>\n",
       "  </tbody>\n",
       "</table>\n",
       "</div>"
      ],
      "text/plain": [
       "   latitude  longitude  brightness  satellite   frp  daynight  type_2  type_3  \\\n",
       "0  -11.8070   142.0583       313.0          1   6.6         1       0       0   \n",
       "1  -11.7924   142.0850       319.3          1  11.3         1       0       0   \n",
       "2  -12.8398   132.8744       311.6          1  23.1         1       0       0   \n",
       "3  -14.4306   143.3035       310.1          1   6.5         1       0       0   \n",
       "4  -12.4953   131.4897       310.3          1  27.6         1       0       0   \n",
       "\n",
       "  scan_binned  year  month  day  \n",
       "0           1  2019      8    1  \n",
       "1           1  2019      8    1  \n",
       "2           4  2019      8    1  \n",
       "3           2  2019      8    1  \n",
       "4           4  2019      8    1  "
      ]
     },
     "execution_count": 26,
     "metadata": {},
     "output_type": "execute_result"
    }
   ],
   "source": [
    "fin.head()"
   ]
  },
  {
   "cell_type": "markdown",
   "metadata": {},
   "source": [
    "### Splitting the clean data into training and testing dataset"
   ]
  },
  {
   "cell_type": "code",
   "execution_count": 27,
   "metadata": {
    "id": "2XnxIRf7KuVL"
   },
   "outputs": [],
   "source": [
    "Xtrain, Xtest, ytrain, ytest = train_test_split(fin.iloc[:, :500], y, test_size=0.2)"
   ]
  },
  {
   "cell_type": "markdown",
   "metadata": {},
   "source": [
    "### Using RandomForestRegressor for model building"
   ]
  },
  {
   "cell_type": "code",
   "execution_count": 28,
   "metadata": {
    "id": "zzPfe5KeKzRW"
   },
   "outputs": [],
   "source": [
    "random_model = RandomForestRegressor(n_estimators=300, random_state = 42, n_jobs = -1)"
   ]
  },
  {
   "cell_type": "code",
   "execution_count": 29,
   "metadata": {
    "colab": {
     "base_uri": "https://localhost:8080/"
    },
    "executionInfo": {
     "elapsed": 39175,
     "status": "ok",
     "timestamp": 1624466681739,
     "user": {
      "displayName": "siddharth patra",
      "photoUrl": "https://lh3.googleusercontent.com/a-/AOh14Gjnwsdj5DKa95WHRl25dlQz9L1Bbc10vap4xTNIiA=s64",
      "userId": "01966341811263607507"
     },
     "user_tz": -330
    },
    "id": "Xs3LXVH1K2DF",
    "outputId": "38fa2025-4ea4-464f-9402-6a8dccd46721"
   },
   "outputs": [
    {
     "name": "stdout",
     "output_type": "stream",
     "text": [
      "95.32 %\n"
     ]
    }
   ],
   "source": [
    "#Fit\n",
    "random_model.fit(Xtrain, ytrain)\n",
    "\n",
    "y_pred = random_model.predict(Xtest)\n",
    "\n",
    "#Checking the accuracy\n",
    "random_model_accuracy = round(random_model.score(Xtrain, ytrain)*100,2)\n",
    "print(round(random_model_accuracy, 2), '%')"
   ]
  },
  {
   "cell_type": "code",
   "execution_count": 30,
   "metadata": {
    "colab": {
     "base_uri": "https://localhost:8080/"
    },
    "executionInfo": {
     "elapsed": 629,
     "status": "ok",
     "timestamp": 1624466682362,
     "user": {
      "displayName": "siddharth patra",
      "photoUrl": "https://lh3.googleusercontent.com/a-/AOh14Gjnwsdj5DKa95WHRl25dlQz9L1Bbc10vap4xTNIiA=s64",
      "userId": "01966341811263607507"
     },
     "user_tz": -330
    },
    "id": "_bRcHW-TK5e5",
    "outputId": "d1d3d60d-69a6-4781-f8fa-7555058ec602"
   },
   "outputs": [
    {
     "name": "stdout",
     "output_type": "stream",
     "text": [
      "65.32 %\n"
     ]
    }
   ],
   "source": [
    "#Checking the accuracy\n",
    "random_model_accuracy1 = round(random_model.score(Xtest, ytest)*100,2)\n",
    "print(round(random_model_accuracy1, 2), '%')"
   ]
  },
  {
   "cell_type": "code",
   "execution_count": 31,
   "metadata": {
    "id": "OdHq4nfDvWE5"
   },
   "outputs": [],
   "source": [
    "# Save the trained model as a pickle string.\n",
    "import pickle \n",
    "\n",
    "saved_model = pickle.dump(random_model, open('ForestModelOld.pickle','wb'))"
   ]
  },
  {
   "cell_type": "markdown",
   "metadata": {},
   "source": [
    "### Model Tuning"
   ]
  },
  {
   "cell_type": "code",
   "execution_count": 32,
   "metadata": {
    "id": "PkzWoNLULaos"
   },
   "outputs": [],
   "source": [
    "# The accuracy is not so great, plus the model is overfitting\n",
    "# So we use RandomCV"
   ]
  },
  {
   "cell_type": "code",
   "execution_count": 33,
   "metadata": {
    "colab": {
     "base_uri": "https://localhost:8080/"
    },
    "executionInfo": {
     "elapsed": 11,
     "status": "ok",
     "timestamp": 1624460388906,
     "user": {
      "displayName": "siddharth patra",
      "photoUrl": "https://lh3.googleusercontent.com/a-/AOh14Gjnwsdj5DKa95WHRl25dlQz9L1Bbc10vap4xTNIiA=s64",
      "userId": "01966341811263607507"
     },
     "user_tz": -330
    },
    "id": "vmuyDMGOMGpD",
    "outputId": "bf5680bc-94eb-48bc-9c5a-2244638c3eff"
   },
   "outputs": [
    {
     "data": {
      "text/plain": [
       "{'bootstrap': True,\n",
       " 'ccp_alpha': 0.0,\n",
       " 'criterion': 'mse',\n",
       " 'max_depth': None,\n",
       " 'max_features': 'auto',\n",
       " 'max_leaf_nodes': None,\n",
       " 'max_samples': None,\n",
       " 'min_impurity_decrease': 0.0,\n",
       " 'min_impurity_split': None,\n",
       " 'min_samples_leaf': 1,\n",
       " 'min_samples_split': 2,\n",
       " 'min_weight_fraction_leaf': 0.0,\n",
       " 'n_estimators': 300,\n",
       " 'n_jobs': -1,\n",
       " 'oob_score': False,\n",
       " 'random_state': 42,\n",
       " 'verbose': 0,\n",
       " 'warm_start': False}"
      ]
     },
     "execution_count": 33,
     "metadata": {},
     "output_type": "execute_result"
    }
   ],
   "source": [
    "random_model.get_params()"
   ]
  },
  {
   "cell_type": "code",
   "execution_count": 34,
   "metadata": {
    "id": "E3szICeuMJ4r"
   },
   "outputs": [],
   "source": [
    "\"\"\"\n",
    "n_estimators = number of trees in the foreset\n",
    "max_features = max number of features considered for splitting a node\n",
    "max_depth = max number of levels in each decision tree\n",
    "min_samples_split = min number of data points placed in a node before the node is split\n",
    "min_samples_leaf = min number of data points allowed in a leaf node\n",
    "bootstrap = method for sampling data points (with or without replacement)\n",
    "\"\"\"\n",
    "\n",
    "from sklearn.model_selection import RandomizedSearchCV"
   ]
  },
  {
   "cell_type": "code",
   "execution_count": 35,
   "metadata": {
    "colab": {
     "base_uri": "https://localhost:8080/"
    },
    "executionInfo": {
     "elapsed": 9,
     "status": "ok",
     "timestamp": 1624460388907,
     "user": {
      "displayName": "siddharth patra",
      "photoUrl": "https://lh3.googleusercontent.com/a-/AOh14Gjnwsdj5DKa95WHRl25dlQz9L1Bbc10vap4xTNIiA=s64",
      "userId": "01966341811263607507"
     },
     "user_tz": -330
    },
    "id": "kRiXHtQUMOkq",
    "outputId": "b586a853-2408-4ad6-9d5e-fc9a66717348"
   },
   "outputs": [
    {
     "name": "stdout",
     "output_type": "stream",
     "text": [
      "{'n_estimators': [300, 310, 321, 331, 342, 352, 363, 373, 384, 394, 405, 415, 426, 436, 447, 457, 468, 478, 489, 500], 'max_features': ['auto', 'sqrt'], 'max_depth': [15, 18, 21, 25, 28, 31, 35, None], 'min_samples_split': [2, 3, 5], 'min_samples_leaf': [1, 2, 4]}\n"
     ]
    }
   ],
   "source": [
    "# Number of trees in random forest\n",
    "n_estimators = [int(x) for x in np.linspace(start = 300, stop = 500, num = 20)]\n",
    "# Number of features to consider at every split\n",
    "max_features = ['auto', 'sqrt']\n",
    "# Maximum number of levels in tree\n",
    "max_depth = [int(x) for x in np.linspace(15, 35, num = 7)]\n",
    "max_depth.append(None)\n",
    "# Minimum number of samples required to split a node\n",
    "min_samples_split = [2, 3, 5]\n",
    "# Minimum number of samples required at each leaf node\n",
    "min_samples_leaf = [1, 2, 4]\n",
    "# Create the random grid\n",
    "random_grid = {'n_estimators': n_estimators,\n",
    "               'max_features': max_features,\n",
    "               'max_depth': max_depth,\n",
    "               'min_samples_split': min_samples_split,\n",
    "               'min_samples_leaf': min_samples_leaf,\n",
    "                }\n",
    "print(random_grid)"
   ]
  },
  {
   "cell_type": "code",
   "execution_count": 36,
   "metadata": {
    "colab": {
     "base_uri": "https://localhost:8080/"
    },
    "executionInfo": {
     "elapsed": 3195792,
     "status": "ok",
     "timestamp": 1624463584692,
     "user": {
      "displayName": "siddharth patra",
      "photoUrl": "https://lh3.googleusercontent.com/a-/AOh14Gjnwsdj5DKa95WHRl25dlQz9L1Bbc10vap4xTNIiA=s64",
      "userId": "01966341811263607507"
     },
     "user_tz": -330
    },
    "id": "Acyu2I_hMYx4",
    "outputId": "723b78c2-fc07-4f17-e34a-182de91fbad1"
   },
   "outputs": [
    {
     "name": "stdout",
     "output_type": "stream",
     "text": [
      "Fitting 3 folds for each of 50 candidates, totalling 150 fits\n",
      "[CV] n_estimators=415, min_samples_split=5, min_samples_leaf=2, max_features=auto, max_depth=18 \n"
     ]
    },
    {
     "name": "stderr",
     "output_type": "stream",
     "text": [
      "[Parallel(n_jobs=1)]: Using backend SequentialBackend with 1 concurrent workers.\n"
     ]
    },
    {
     "name": "stdout",
     "output_type": "stream",
     "text": [
      "[CV]  n_estimators=415, min_samples_split=5, min_samples_leaf=2, max_features=auto, max_depth=18, total=  32.6s\n",
      "[CV] n_estimators=415, min_samples_split=5, min_samples_leaf=2, max_features=auto, max_depth=18 \n"
     ]
    },
    {
     "name": "stderr",
     "output_type": "stream",
     "text": [
      "[Parallel(n_jobs=1)]: Done   1 out of   1 | elapsed:   32.5s remaining:    0.0s\n"
     ]
    },
    {
     "name": "stdout",
     "output_type": "stream",
     "text": [
      "[CV]  n_estimators=415, min_samples_split=5, min_samples_leaf=2, max_features=auto, max_depth=18, total=  27.3s\n",
      "[CV] n_estimators=415, min_samples_split=5, min_samples_leaf=2, max_features=auto, max_depth=18 \n",
      "[CV]  n_estimators=415, min_samples_split=5, min_samples_leaf=2, max_features=auto, max_depth=18, total=  29.7s\n",
      "[CV] n_estimators=436, min_samples_split=2, min_samples_leaf=1, max_features=auto, max_depth=28 \n",
      "[CV]  n_estimators=436, min_samples_split=2, min_samples_leaf=1, max_features=auto, max_depth=28, total=  36.1s\n",
      "[CV] n_estimators=436, min_samples_split=2, min_samples_leaf=1, max_features=auto, max_depth=28 \n",
      "[CV]  n_estimators=436, min_samples_split=2, min_samples_leaf=1, max_features=auto, max_depth=28, total=  34.7s\n",
      "[CV] n_estimators=436, min_samples_split=2, min_samples_leaf=1, max_features=auto, max_depth=28 \n",
      "[CV]  n_estimators=436, min_samples_split=2, min_samples_leaf=1, max_features=auto, max_depth=28, total=  35.9s\n",
      "[CV] n_estimators=478, min_samples_split=3, min_samples_leaf=1, max_features=sqrt, max_depth=35 \n",
      "[CV]  n_estimators=478, min_samples_split=3, min_samples_leaf=1, max_features=sqrt, max_depth=35, total=  14.7s\n",
      "[CV] n_estimators=478, min_samples_split=3, min_samples_leaf=1, max_features=sqrt, max_depth=35 \n",
      "[CV]  n_estimators=478, min_samples_split=3, min_samples_leaf=1, max_features=sqrt, max_depth=35, total=  14.5s\n",
      "[CV] n_estimators=478, min_samples_split=3, min_samples_leaf=1, max_features=sqrt, max_depth=35 \n",
      "[CV]  n_estimators=478, min_samples_split=3, min_samples_leaf=1, max_features=sqrt, max_depth=35, total=  14.9s\n",
      "[CV] n_estimators=310, min_samples_split=5, min_samples_leaf=4, max_features=auto, max_depth=28 \n",
      "[CV]  n_estimators=310, min_samples_split=5, min_samples_leaf=4, max_features=auto, max_depth=28, total=  19.3s\n",
      "[CV] n_estimators=310, min_samples_split=5, min_samples_leaf=4, max_features=auto, max_depth=28 \n",
      "[CV]  n_estimators=310, min_samples_split=5, min_samples_leaf=4, max_features=auto, max_depth=28, total=  19.1s\n",
      "[CV] n_estimators=310, min_samples_split=5, min_samples_leaf=4, max_features=auto, max_depth=28 \n",
      "[CV]  n_estimators=310, min_samples_split=5, min_samples_leaf=4, max_features=auto, max_depth=28, total=  19.4s\n",
      "[CV] n_estimators=447, min_samples_split=2, min_samples_leaf=1, max_features=auto, max_depth=25 \n",
      "[CV]  n_estimators=447, min_samples_split=2, min_samples_leaf=1, max_features=auto, max_depth=25, total=  36.2s\n",
      "[CV] n_estimators=447, min_samples_split=2, min_samples_leaf=1, max_features=auto, max_depth=25 \n",
      "[CV]  n_estimators=447, min_samples_split=2, min_samples_leaf=1, max_features=auto, max_depth=25, total=  37.2s\n",
      "[CV] n_estimators=447, min_samples_split=2, min_samples_leaf=1, max_features=auto, max_depth=25 \n",
      "[CV]  n_estimators=447, min_samples_split=2, min_samples_leaf=1, max_features=auto, max_depth=25, total=  35.7s\n",
      "[CV] n_estimators=457, min_samples_split=5, min_samples_leaf=4, max_features=auto, max_depth=25 \n",
      "[CV]  n_estimators=457, min_samples_split=5, min_samples_leaf=4, max_features=auto, max_depth=25, total=  29.2s\n",
      "[CV] n_estimators=457, min_samples_split=5, min_samples_leaf=4, max_features=auto, max_depth=25 \n",
      "[CV]  n_estimators=457, min_samples_split=5, min_samples_leaf=4, max_features=auto, max_depth=25, total=  27.8s\n",
      "[CV] n_estimators=457, min_samples_split=5, min_samples_leaf=4, max_features=auto, max_depth=25 \n",
      "[CV]  n_estimators=457, min_samples_split=5, min_samples_leaf=4, max_features=auto, max_depth=25, total=  29.8s\n",
      "[CV] n_estimators=384, min_samples_split=5, min_samples_leaf=1, max_features=auto, max_depth=25 \n",
      "[CV]  n_estimators=384, min_samples_split=5, min_samples_leaf=1, max_features=auto, max_depth=25, total=  34.3s\n",
      "[CV] n_estimators=384, min_samples_split=5, min_samples_leaf=1, max_features=auto, max_depth=25 \n",
      "[CV]  n_estimators=384, min_samples_split=5, min_samples_leaf=1, max_features=auto, max_depth=25, total=  40.8s\n",
      "[CV] n_estimators=384, min_samples_split=5, min_samples_leaf=1, max_features=auto, max_depth=25 \n",
      "[CV]  n_estimators=384, min_samples_split=5, min_samples_leaf=1, max_features=auto, max_depth=25, total=  28.1s\n",
      "[CV] n_estimators=426, min_samples_split=3, min_samples_leaf=2, max_features=auto, max_depth=35 \n",
      "[CV]  n_estimators=426, min_samples_split=3, min_samples_leaf=2, max_features=auto, max_depth=35, total=  41.1s\n",
      "[CV] n_estimators=426, min_samples_split=3, min_samples_leaf=2, max_features=auto, max_depth=35 \n",
      "[CV]  n_estimators=426, min_samples_split=3, min_samples_leaf=2, max_features=auto, max_depth=35, total=  32.6s\n",
      "[CV] n_estimators=426, min_samples_split=3, min_samples_leaf=2, max_features=auto, max_depth=35 \n",
      "[CV]  n_estimators=426, min_samples_split=3, min_samples_leaf=2, max_features=auto, max_depth=35, total=  42.3s\n",
      "[CV] n_estimators=352, min_samples_split=5, min_samples_leaf=1, max_features=sqrt, max_depth=21 \n",
      "[CV]  n_estimators=352, min_samples_split=5, min_samples_leaf=1, max_features=sqrt, max_depth=21, total=  11.6s\n",
      "[CV] n_estimators=352, min_samples_split=5, min_samples_leaf=1, max_features=sqrt, max_depth=21 \n",
      "[CV]  n_estimators=352, min_samples_split=5, min_samples_leaf=1, max_features=sqrt, max_depth=21, total=  12.5s\n",
      "[CV] n_estimators=352, min_samples_split=5, min_samples_leaf=1, max_features=sqrt, max_depth=21 \n",
      "[CV]  n_estimators=352, min_samples_split=5, min_samples_leaf=1, max_features=sqrt, max_depth=21, total=  12.0s\n",
      "[CV] n_estimators=300, min_samples_split=2, min_samples_leaf=1, max_features=auto, max_depth=31 \n",
      "[CV]  n_estimators=300, min_samples_split=2, min_samples_leaf=1, max_features=auto, max_depth=31, total=  40.4s\n",
      "[CV] n_estimators=300, min_samples_split=2, min_samples_leaf=1, max_features=auto, max_depth=31 \n",
      "[CV]  n_estimators=300, min_samples_split=2, min_samples_leaf=1, max_features=auto, max_depth=31, total=  34.4s\n",
      "[CV] n_estimators=300, min_samples_split=2, min_samples_leaf=1, max_features=auto, max_depth=31 \n",
      "[CV]  n_estimators=300, min_samples_split=2, min_samples_leaf=1, max_features=auto, max_depth=31, total=  26.3s\n",
      "[CV] n_estimators=447, min_samples_split=2, min_samples_leaf=2, max_features=sqrt, max_depth=None \n",
      "[CV]  n_estimators=447, min_samples_split=2, min_samples_leaf=2, max_features=sqrt, max_depth=None, total=  12.9s\n",
      "[CV] n_estimators=447, min_samples_split=2, min_samples_leaf=2, max_features=sqrt, max_depth=None \n",
      "[CV]  n_estimators=447, min_samples_split=2, min_samples_leaf=2, max_features=sqrt, max_depth=None, total=  16.9s\n",
      "[CV] n_estimators=447, min_samples_split=2, min_samples_leaf=2, max_features=sqrt, max_depth=None \n",
      "[CV]  n_estimators=447, min_samples_split=2, min_samples_leaf=2, max_features=sqrt, max_depth=None, total=  22.8s\n",
      "[CV] n_estimators=373, min_samples_split=3, min_samples_leaf=1, max_features=sqrt, max_depth=None \n",
      "[CV]  n_estimators=373, min_samples_split=3, min_samples_leaf=1, max_features=sqrt, max_depth=None, total=  20.9s\n",
      "[CV] n_estimators=373, min_samples_split=3, min_samples_leaf=1, max_features=sqrt, max_depth=None \n",
      "[CV]  n_estimators=373, min_samples_split=3, min_samples_leaf=1, max_features=sqrt, max_depth=None, total=  17.8s\n",
      "[CV] n_estimators=373, min_samples_split=3, min_samples_leaf=1, max_features=sqrt, max_depth=None \n",
      "[CV]  n_estimators=373, min_samples_split=3, min_samples_leaf=1, max_features=sqrt, max_depth=None, total=  24.7s\n",
      "[CV] n_estimators=384, min_samples_split=2, min_samples_leaf=1, max_features=auto, max_depth=18 \n",
      "[CV]  n_estimators=384, min_samples_split=2, min_samples_leaf=1, max_features=auto, max_depth=18, total=  38.4s\n",
      "[CV] n_estimators=384, min_samples_split=2, min_samples_leaf=1, max_features=auto, max_depth=18 \n",
      "[CV]  n_estimators=384, min_samples_split=2, min_samples_leaf=1, max_features=auto, max_depth=18, total=  27.6s\n",
      "[CV] n_estimators=384, min_samples_split=2, min_samples_leaf=1, max_features=auto, max_depth=18 \n",
      "[CV]  n_estimators=384, min_samples_split=2, min_samples_leaf=1, max_features=auto, max_depth=18, total=  28.0s\n",
      "[CV] n_estimators=300, min_samples_split=3, min_samples_leaf=4, max_features=sqrt, max_depth=28 \n",
      "[CV]  n_estimators=300, min_samples_split=3, min_samples_leaf=4, max_features=sqrt, max_depth=28, total=   6.7s\n",
      "[CV] n_estimators=300, min_samples_split=3, min_samples_leaf=4, max_features=sqrt, max_depth=28 \n",
      "[CV]  n_estimators=300, min_samples_split=3, min_samples_leaf=4, max_features=sqrt, max_depth=28, total=   7.3s\n",
      "[CV] n_estimators=300, min_samples_split=3, min_samples_leaf=4, max_features=sqrt, max_depth=28 \n"
     ]
    },
    {
     "name": "stdout",
     "output_type": "stream",
     "text": [
      "[CV]  n_estimators=300, min_samples_split=3, min_samples_leaf=4, max_features=sqrt, max_depth=28, total=   7.9s\n",
      "[CV] n_estimators=478, min_samples_split=3, min_samples_leaf=2, max_features=auto, max_depth=21 \n",
      "[CV]  n_estimators=478, min_samples_split=3, min_samples_leaf=2, max_features=auto, max_depth=21, total=  38.7s\n",
      "[CV] n_estimators=478, min_samples_split=3, min_samples_leaf=2, max_features=auto, max_depth=21 \n",
      "[CV]  n_estimators=478, min_samples_split=3, min_samples_leaf=2, max_features=auto, max_depth=21, total=  34.4s\n",
      "[CV] n_estimators=478, min_samples_split=3, min_samples_leaf=2, max_features=auto, max_depth=21 \n",
      "[CV]  n_estimators=478, min_samples_split=3, min_samples_leaf=2, max_features=auto, max_depth=21, total=  36.6s\n",
      "[CV] n_estimators=310, min_samples_split=2, min_samples_leaf=2, max_features=auto, max_depth=21 \n",
      "[CV]  n_estimators=310, min_samples_split=2, min_samples_leaf=2, max_features=auto, max_depth=21, total=  22.7s\n",
      "[CV] n_estimators=310, min_samples_split=2, min_samples_leaf=2, max_features=auto, max_depth=21 \n",
      "[CV]  n_estimators=310, min_samples_split=2, min_samples_leaf=2, max_features=auto, max_depth=21, total=  22.3s\n",
      "[CV] n_estimators=310, min_samples_split=2, min_samples_leaf=2, max_features=auto, max_depth=21 \n",
      "[CV]  n_estimators=310, min_samples_split=2, min_samples_leaf=2, max_features=auto, max_depth=21, total=  28.5s\n",
      "[CV] n_estimators=489, min_samples_split=2, min_samples_leaf=4, max_features=auto, max_depth=18 \n",
      "[CV]  n_estimators=489, min_samples_split=2, min_samples_leaf=4, max_features=auto, max_depth=18, total=  33.4s\n",
      "[CV] n_estimators=489, min_samples_split=2, min_samples_leaf=4, max_features=auto, max_depth=18 \n",
      "[CV]  n_estimators=489, min_samples_split=2, min_samples_leaf=4, max_features=auto, max_depth=18, total=  48.5s\n",
      "[CV] n_estimators=489, min_samples_split=2, min_samples_leaf=4, max_features=auto, max_depth=18 \n",
      "[CV]  n_estimators=489, min_samples_split=2, min_samples_leaf=4, max_features=auto, max_depth=18, total=  49.4s\n",
      "[CV] n_estimators=500, min_samples_split=5, min_samples_leaf=1, max_features=sqrt, max_depth=15 \n",
      "[CV]  n_estimators=500, min_samples_split=5, min_samples_leaf=1, max_features=sqrt, max_depth=15, total=  16.4s\n",
      "[CV] n_estimators=500, min_samples_split=5, min_samples_leaf=1, max_features=sqrt, max_depth=15 \n",
      "[CV]  n_estimators=500, min_samples_split=5, min_samples_leaf=1, max_features=sqrt, max_depth=15, total=  15.3s\n",
      "[CV] n_estimators=500, min_samples_split=5, min_samples_leaf=1, max_features=sqrt, max_depth=15 \n",
      "[CV]  n_estimators=500, min_samples_split=5, min_samples_leaf=1, max_features=sqrt, max_depth=15, total=  12.3s\n",
      "[CV] n_estimators=415, min_samples_split=3, min_samples_leaf=4, max_features=sqrt, max_depth=15 \n",
      "[CV]  n_estimators=415, min_samples_split=3, min_samples_leaf=4, max_features=sqrt, max_depth=15, total=   9.0s\n",
      "[CV] n_estimators=415, min_samples_split=3, min_samples_leaf=4, max_features=sqrt, max_depth=15 \n",
      "[CV]  n_estimators=415, min_samples_split=3, min_samples_leaf=4, max_features=sqrt, max_depth=15, total=  11.5s\n",
      "[CV] n_estimators=415, min_samples_split=3, min_samples_leaf=4, max_features=sqrt, max_depth=15 \n",
      "[CV]  n_estimators=415, min_samples_split=3, min_samples_leaf=4, max_features=sqrt, max_depth=15, total=  12.1s\n",
      "[CV] n_estimators=489, min_samples_split=5, min_samples_leaf=2, max_features=auto, max_depth=21 \n",
      "[CV]  n_estimators=489, min_samples_split=5, min_samples_leaf=2, max_features=auto, max_depth=21, total=  34.0s\n",
      "[CV] n_estimators=489, min_samples_split=5, min_samples_leaf=2, max_features=auto, max_depth=21 \n",
      "[CV]  n_estimators=489, min_samples_split=5, min_samples_leaf=2, max_features=auto, max_depth=21, total=  32.3s\n",
      "[CV] n_estimators=489, min_samples_split=5, min_samples_leaf=2, max_features=auto, max_depth=21 \n",
      "[CV]  n_estimators=489, min_samples_split=5, min_samples_leaf=2, max_features=auto, max_depth=21, total=  38.9s\n",
      "[CV] n_estimators=426, min_samples_split=5, min_samples_leaf=1, max_features=sqrt, max_depth=21 \n",
      "[CV]  n_estimators=426, min_samples_split=5, min_samples_leaf=1, max_features=sqrt, max_depth=21, total=  12.6s\n",
      "[CV] n_estimators=426, min_samples_split=5, min_samples_leaf=1, max_features=sqrt, max_depth=21 \n",
      "[CV]  n_estimators=426, min_samples_split=5, min_samples_leaf=1, max_features=sqrt, max_depth=21, total=  14.1s\n",
      "[CV] n_estimators=426, min_samples_split=5, min_samples_leaf=1, max_features=sqrt, max_depth=21 \n",
      "[CV]  n_estimators=426, min_samples_split=5, min_samples_leaf=1, max_features=sqrt, max_depth=21, total=  13.4s\n",
      "[CV] n_estimators=310, min_samples_split=3, min_samples_leaf=4, max_features=auto, max_depth=25 \n",
      "[CV]  n_estimators=310, min_samples_split=3, min_samples_leaf=4, max_features=auto, max_depth=25, total=  23.6s\n",
      "[CV] n_estimators=310, min_samples_split=3, min_samples_leaf=4, max_features=auto, max_depth=25 \n",
      "[CV]  n_estimators=310, min_samples_split=3, min_samples_leaf=4, max_features=auto, max_depth=25, total=  22.3s\n",
      "[CV] n_estimators=310, min_samples_split=3, min_samples_leaf=4, max_features=auto, max_depth=25 \n",
      "[CV]  n_estimators=310, min_samples_split=3, min_samples_leaf=4, max_features=auto, max_depth=25, total=  19.5s\n",
      "[CV] n_estimators=394, min_samples_split=2, min_samples_leaf=1, max_features=sqrt, max_depth=25 \n",
      "[CV]  n_estimators=394, min_samples_split=2, min_samples_leaf=1, max_features=sqrt, max_depth=25, total=  13.4s\n",
      "[CV] n_estimators=394, min_samples_split=2, min_samples_leaf=1, max_features=sqrt, max_depth=25 \n",
      "[CV]  n_estimators=394, min_samples_split=2, min_samples_leaf=1, max_features=sqrt, max_depth=25, total=  15.9s\n",
      "[CV] n_estimators=394, min_samples_split=2, min_samples_leaf=1, max_features=sqrt, max_depth=25 \n",
      "[CV]  n_estimators=394, min_samples_split=2, min_samples_leaf=1, max_features=sqrt, max_depth=25, total=  14.6s\n",
      "[CV] n_estimators=457, min_samples_split=3, min_samples_leaf=1, max_features=sqrt, max_depth=35 \n",
      "[CV]  n_estimators=457, min_samples_split=3, min_samples_leaf=1, max_features=sqrt, max_depth=35, total=  15.8s\n",
      "[CV] n_estimators=457, min_samples_split=3, min_samples_leaf=1, max_features=sqrt, max_depth=35 \n",
      "[CV]  n_estimators=457, min_samples_split=3, min_samples_leaf=1, max_features=sqrt, max_depth=35, total=  14.2s\n",
      "[CV] n_estimators=457, min_samples_split=3, min_samples_leaf=1, max_features=sqrt, max_depth=35 \n",
      "[CV]  n_estimators=457, min_samples_split=3, min_samples_leaf=1, max_features=sqrt, max_depth=35, total=  14.5s\n",
      "[CV] n_estimators=489, min_samples_split=3, min_samples_leaf=4, max_features=sqrt, max_depth=28 \n",
      "[CV]  n_estimators=489, min_samples_split=3, min_samples_leaf=4, max_features=sqrt, max_depth=28, total=  10.6s\n",
      "[CV] n_estimators=489, min_samples_split=3, min_samples_leaf=4, max_features=sqrt, max_depth=28 \n",
      "[CV]  n_estimators=489, min_samples_split=3, min_samples_leaf=4, max_features=sqrt, max_depth=28, total=  10.4s\n",
      "[CV] n_estimators=489, min_samples_split=3, min_samples_leaf=4, max_features=sqrt, max_depth=28 \n",
      "[CV]  n_estimators=489, min_samples_split=3, min_samples_leaf=4, max_features=sqrt, max_depth=28, total=  10.7s\n",
      "[CV] n_estimators=478, min_samples_split=2, min_samples_leaf=2, max_features=auto, max_depth=28 \n",
      "[CV]  n_estimators=478, min_samples_split=2, min_samples_leaf=2, max_features=auto, max_depth=28, total=  33.2s\n",
      "[CV] n_estimators=478, min_samples_split=2, min_samples_leaf=2, max_features=auto, max_depth=28 \n",
      "[CV]  n_estimators=478, min_samples_split=2, min_samples_leaf=2, max_features=auto, max_depth=28, total=  32.5s\n",
      "[CV] n_estimators=478, min_samples_split=2, min_samples_leaf=2, max_features=auto, max_depth=28 \n",
      "[CV]  n_estimators=478, min_samples_split=2, min_samples_leaf=2, max_features=auto, max_depth=28, total=  32.4s\n",
      "[CV] n_estimators=321, min_samples_split=3, min_samples_leaf=1, max_features=sqrt, max_depth=31 \n",
      "[CV]  n_estimators=321, min_samples_split=3, min_samples_leaf=1, max_features=sqrt, max_depth=31, total=   9.6s\n",
      "[CV] n_estimators=321, min_samples_split=3, min_samples_leaf=1, max_features=sqrt, max_depth=31 \n",
      "[CV]  n_estimators=321, min_samples_split=3, min_samples_leaf=1, max_features=sqrt, max_depth=31, total=   9.9s\n",
      "[CV] n_estimators=321, min_samples_split=3, min_samples_leaf=1, max_features=sqrt, max_depth=31 \n",
      "[CV]  n_estimators=321, min_samples_split=3, min_samples_leaf=1, max_features=sqrt, max_depth=31, total=  10.0s\n",
      "[CV] n_estimators=405, min_samples_split=5, min_samples_leaf=2, max_features=sqrt, max_depth=21 \n"
     ]
    },
    {
     "name": "stdout",
     "output_type": "stream",
     "text": [
      "[CV]  n_estimators=405, min_samples_split=5, min_samples_leaf=2, max_features=sqrt, max_depth=21, total=  10.0s\n",
      "[CV] n_estimators=405, min_samples_split=5, min_samples_leaf=2, max_features=sqrt, max_depth=21 \n",
      "[CV]  n_estimators=405, min_samples_split=5, min_samples_leaf=2, max_features=sqrt, max_depth=21, total=   9.6s\n",
      "[CV] n_estimators=405, min_samples_split=5, min_samples_leaf=2, max_features=sqrt, max_depth=21 \n",
      "[CV]  n_estimators=405, min_samples_split=5, min_samples_leaf=2, max_features=sqrt, max_depth=21, total=   9.5s\n",
      "[CV] n_estimators=426, min_samples_split=2, min_samples_leaf=4, max_features=sqrt, max_depth=28 \n",
      "[CV]  n_estimators=426, min_samples_split=2, min_samples_leaf=4, max_features=sqrt, max_depth=28, total=   9.0s\n",
      "[CV] n_estimators=426, min_samples_split=2, min_samples_leaf=4, max_features=sqrt, max_depth=28 \n",
      "[CV]  n_estimators=426, min_samples_split=2, min_samples_leaf=4, max_features=sqrt, max_depth=28, total=   8.8s\n",
      "[CV] n_estimators=426, min_samples_split=2, min_samples_leaf=4, max_features=sqrt, max_depth=28 \n",
      "[CV]  n_estimators=426, min_samples_split=2, min_samples_leaf=4, max_features=sqrt, max_depth=28, total=   8.7s\n",
      "[CV] n_estimators=447, min_samples_split=5, min_samples_leaf=2, max_features=auto, max_depth=31 \n",
      "[CV]  n_estimators=447, min_samples_split=5, min_samples_leaf=2, max_features=auto, max_depth=31, total=  29.2s\n",
      "[CV] n_estimators=447, min_samples_split=5, min_samples_leaf=2, max_features=auto, max_depth=31 \n",
      "[CV]  n_estimators=447, min_samples_split=5, min_samples_leaf=2, max_features=auto, max_depth=31, total=  30.5s\n",
      "[CV] n_estimators=447, min_samples_split=5, min_samples_leaf=2, max_features=auto, max_depth=31 \n",
      "[CV]  n_estimators=447, min_samples_split=5, min_samples_leaf=2, max_features=auto, max_depth=31, total=  29.5s\n",
      "[CV] n_estimators=394, min_samples_split=5, min_samples_leaf=4, max_features=sqrt, max_depth=25 \n",
      "[CV]  n_estimators=394, min_samples_split=5, min_samples_leaf=4, max_features=sqrt, max_depth=25, total=   8.3s\n",
      "[CV] n_estimators=394, min_samples_split=5, min_samples_leaf=4, max_features=sqrt, max_depth=25 \n",
      "[CV]  n_estimators=394, min_samples_split=5, min_samples_leaf=4, max_features=sqrt, max_depth=25, total=   8.5s\n",
      "[CV] n_estimators=394, min_samples_split=5, min_samples_leaf=4, max_features=sqrt, max_depth=25 \n",
      "[CV]  n_estimators=394, min_samples_split=5, min_samples_leaf=4, max_features=sqrt, max_depth=25, total=   8.4s\n",
      "[CV] n_estimators=342, min_samples_split=2, min_samples_leaf=4, max_features=auto, max_depth=28 \n",
      "[CV]  n_estimators=342, min_samples_split=2, min_samples_leaf=4, max_features=auto, max_depth=28, total=  21.1s\n",
      "[CV] n_estimators=342, min_samples_split=2, min_samples_leaf=4, max_features=auto, max_depth=28 \n",
      "[CV]  n_estimators=342, min_samples_split=2, min_samples_leaf=4, max_features=auto, max_depth=28, total=  21.8s\n",
      "[CV] n_estimators=342, min_samples_split=2, min_samples_leaf=4, max_features=auto, max_depth=28 \n",
      "[CV]  n_estimators=342, min_samples_split=2, min_samples_leaf=4, max_features=auto, max_depth=28, total=  21.9s\n",
      "[CV] n_estimators=426, min_samples_split=3, min_samples_leaf=1, max_features=sqrt, max_depth=35 \n",
      "[CV]  n_estimators=426, min_samples_split=3, min_samples_leaf=1, max_features=sqrt, max_depth=35, total=  12.7s\n",
      "[CV] n_estimators=426, min_samples_split=3, min_samples_leaf=1, max_features=sqrt, max_depth=35 \n",
      "[CV]  n_estimators=426, min_samples_split=3, min_samples_leaf=1, max_features=sqrt, max_depth=35, total=  12.6s\n",
      "[CV] n_estimators=426, min_samples_split=3, min_samples_leaf=1, max_features=sqrt, max_depth=35 \n",
      "[CV]  n_estimators=426, min_samples_split=3, min_samples_leaf=1, max_features=sqrt, max_depth=35, total=  12.9s\n",
      "[CV] n_estimators=373, min_samples_split=5, min_samples_leaf=1, max_features=auto, max_depth=None \n",
      "[CV]  n_estimators=373, min_samples_split=5, min_samples_leaf=1, max_features=auto, max_depth=None, total=  25.9s\n",
      "[CV] n_estimators=373, min_samples_split=5, min_samples_leaf=1, max_features=auto, max_depth=None \n",
      "[CV]  n_estimators=373, min_samples_split=5, min_samples_leaf=1, max_features=auto, max_depth=None, total=  26.2s\n",
      "[CV] n_estimators=373, min_samples_split=5, min_samples_leaf=1, max_features=auto, max_depth=None \n",
      "[CV]  n_estimators=373, min_samples_split=5, min_samples_leaf=1, max_features=auto, max_depth=None, total=  26.9s\n",
      "[CV] n_estimators=426, min_samples_split=3, min_samples_leaf=4, max_features=auto, max_depth=31 \n",
      "[CV]  n_estimators=426, min_samples_split=3, min_samples_leaf=4, max_features=auto, max_depth=31, total=  25.9s\n",
      "[CV] n_estimators=426, min_samples_split=3, min_samples_leaf=4, max_features=auto, max_depth=31 \n",
      "[CV]  n_estimators=426, min_samples_split=3, min_samples_leaf=4, max_features=auto, max_depth=31, total=  25.3s\n",
      "[CV] n_estimators=426, min_samples_split=3, min_samples_leaf=4, max_features=auto, max_depth=31 \n",
      "[CV]  n_estimators=426, min_samples_split=3, min_samples_leaf=4, max_features=auto, max_depth=31, total=  25.6s\n",
      "[CV] n_estimators=478, min_samples_split=2, min_samples_leaf=4, max_features=auto, max_depth=21 \n",
      "[CV]  n_estimators=478, min_samples_split=2, min_samples_leaf=4, max_features=auto, max_depth=21, total=  29.1s\n",
      "[CV] n_estimators=478, min_samples_split=2, min_samples_leaf=4, max_features=auto, max_depth=21 \n",
      "[CV]  n_estimators=478, min_samples_split=2, min_samples_leaf=4, max_features=auto, max_depth=21, total=  28.4s\n",
      "[CV] n_estimators=478, min_samples_split=2, min_samples_leaf=4, max_features=auto, max_depth=21 \n",
      "[CV]  n_estimators=478, min_samples_split=2, min_samples_leaf=4, max_features=auto, max_depth=21, total=  28.8s\n",
      "[CV] n_estimators=500, min_samples_split=2, min_samples_leaf=4, max_features=auto, max_depth=35 \n",
      "[CV]  n_estimators=500, min_samples_split=2, min_samples_leaf=4, max_features=auto, max_depth=35, total=  30.0s\n",
      "[CV] n_estimators=500, min_samples_split=2, min_samples_leaf=4, max_features=auto, max_depth=35 \n",
      "[CV]  n_estimators=500, min_samples_split=2, min_samples_leaf=4, max_features=auto, max_depth=35, total=  29.8s\n",
      "[CV] n_estimators=500, min_samples_split=2, min_samples_leaf=4, max_features=auto, max_depth=35 \n",
      "[CV]  n_estimators=500, min_samples_split=2, min_samples_leaf=4, max_features=auto, max_depth=35, total=  29.9s\n",
      "[CV] n_estimators=342, min_samples_split=2, min_samples_leaf=4, max_features=auto, max_depth=15 \n",
      "[CV]  n_estimators=342, min_samples_split=2, min_samples_leaf=4, max_features=auto, max_depth=15, total=  19.1s\n",
      "[CV] n_estimators=342, min_samples_split=2, min_samples_leaf=4, max_features=auto, max_depth=15 \n",
      "[CV]  n_estimators=342, min_samples_split=2, min_samples_leaf=4, max_features=auto, max_depth=15, total=  18.9s\n",
      "[CV] n_estimators=342, min_samples_split=2, min_samples_leaf=4, max_features=auto, max_depth=15 \n",
      "[CV]  n_estimators=342, min_samples_split=2, min_samples_leaf=4, max_features=auto, max_depth=15, total=  19.3s\n",
      "[CV] n_estimators=457, min_samples_split=5, min_samples_leaf=2, max_features=auto, max_depth=35 \n",
      "[CV]  n_estimators=457, min_samples_split=5, min_samples_leaf=2, max_features=auto, max_depth=35, total=  30.5s\n",
      "[CV] n_estimators=457, min_samples_split=5, min_samples_leaf=2, max_features=auto, max_depth=35 \n",
      "[CV]  n_estimators=457, min_samples_split=5, min_samples_leaf=2, max_features=auto, max_depth=35, total=  30.1s\n",
      "[CV] n_estimators=457, min_samples_split=5, min_samples_leaf=2, max_features=auto, max_depth=35 \n",
      "[CV]  n_estimators=457, min_samples_split=5, min_samples_leaf=2, max_features=auto, max_depth=35, total=  30.1s\n",
      "[CV] n_estimators=415, min_samples_split=2, min_samples_leaf=2, max_features=sqrt, max_depth=None \n",
      "[CV]  n_estimators=415, min_samples_split=2, min_samples_leaf=2, max_features=sqrt, max_depth=None, total=  10.6s\n",
      "[CV] n_estimators=415, min_samples_split=2, min_samples_leaf=2, max_features=sqrt, max_depth=None \n",
      "[CV]  n_estimators=415, min_samples_split=2, min_samples_leaf=2, max_features=sqrt, max_depth=None, total=  10.4s\n",
      "[CV] n_estimators=415, min_samples_split=2, min_samples_leaf=2, max_features=sqrt, max_depth=None \n",
      "[CV]  n_estimators=415, min_samples_split=2, min_samples_leaf=2, max_features=sqrt, max_depth=None, total=  10.4s\n",
      "[CV] n_estimators=394, min_samples_split=3, min_samples_leaf=4, max_features=auto, max_depth=None \n",
      "[CV]  n_estimators=394, min_samples_split=3, min_samples_leaf=4, max_features=auto, max_depth=None, total=  24.9s\n",
      "[CV] n_estimators=394, min_samples_split=3, min_samples_leaf=4, max_features=auto, max_depth=None \n"
     ]
    },
    {
     "name": "stdout",
     "output_type": "stream",
     "text": [
      "[CV]  n_estimators=394, min_samples_split=3, min_samples_leaf=4, max_features=auto, max_depth=None, total=  23.9s\n",
      "[CV] n_estimators=394, min_samples_split=3, min_samples_leaf=4, max_features=auto, max_depth=None \n",
      "[CV]  n_estimators=394, min_samples_split=3, min_samples_leaf=4, max_features=auto, max_depth=None, total=  23.7s\n",
      "[CV] n_estimators=426, min_samples_split=3, min_samples_leaf=1, max_features=auto, max_depth=28 \n",
      "[CV]  n_estimators=426, min_samples_split=3, min_samples_leaf=1, max_features=auto, max_depth=28, total=  31.4s\n",
      "[CV] n_estimators=426, min_samples_split=3, min_samples_leaf=1, max_features=auto, max_depth=28 \n",
      "[CV]  n_estimators=426, min_samples_split=3, min_samples_leaf=1, max_features=auto, max_depth=28, total=  30.9s\n",
      "[CV] n_estimators=426, min_samples_split=3, min_samples_leaf=1, max_features=auto, max_depth=28 \n",
      "[CV]  n_estimators=426, min_samples_split=3, min_samples_leaf=1, max_features=auto, max_depth=28, total=  31.2s\n",
      "[CV] n_estimators=310, min_samples_split=2, min_samples_leaf=2, max_features=sqrt, max_depth=25 \n",
      "[CV]  n_estimators=310, min_samples_split=2, min_samples_leaf=2, max_features=sqrt, max_depth=25, total=   7.9s\n",
      "[CV] n_estimators=310, min_samples_split=2, min_samples_leaf=2, max_features=sqrt, max_depth=25 \n",
      "[CV]  n_estimators=310, min_samples_split=2, min_samples_leaf=2, max_features=sqrt, max_depth=25, total=   7.7s\n",
      "[CV] n_estimators=310, min_samples_split=2, min_samples_leaf=2, max_features=sqrt, max_depth=25 \n",
      "[CV]  n_estimators=310, min_samples_split=2, min_samples_leaf=2, max_features=sqrt, max_depth=25, total=   7.8s\n",
      "[CV] n_estimators=405, min_samples_split=3, min_samples_leaf=1, max_features=sqrt, max_depth=35 \n",
      "[CV]  n_estimators=405, min_samples_split=3, min_samples_leaf=1, max_features=sqrt, max_depth=35, total=  12.1s\n",
      "[CV] n_estimators=405, min_samples_split=3, min_samples_leaf=1, max_features=sqrt, max_depth=35 \n",
      "[CV]  n_estimators=405, min_samples_split=3, min_samples_leaf=1, max_features=sqrt, max_depth=35, total=  12.1s\n",
      "[CV] n_estimators=405, min_samples_split=3, min_samples_leaf=1, max_features=sqrt, max_depth=35 \n",
      "[CV]  n_estimators=405, min_samples_split=3, min_samples_leaf=1, max_features=sqrt, max_depth=35, total=  12.0s\n",
      "[CV] n_estimators=352, min_samples_split=3, min_samples_leaf=4, max_features=sqrt, max_depth=25 \n",
      "[CV]  n_estimators=352, min_samples_split=3, min_samples_leaf=4, max_features=sqrt, max_depth=25, total=   8.0s\n",
      "[CV] n_estimators=352, min_samples_split=3, min_samples_leaf=4, max_features=sqrt, max_depth=25 \n",
      "[CV]  n_estimators=352, min_samples_split=3, min_samples_leaf=4, max_features=sqrt, max_depth=25, total=   7.6s\n",
      "[CV] n_estimators=352, min_samples_split=3, min_samples_leaf=4, max_features=sqrt, max_depth=25 \n",
      "[CV]  n_estimators=352, min_samples_split=3, min_samples_leaf=4, max_features=sqrt, max_depth=25, total=   8.3s\n",
      "[CV] n_estimators=394, min_samples_split=5, min_samples_leaf=1, max_features=sqrt, max_depth=31 \n",
      "[CV]  n_estimators=394, min_samples_split=5, min_samples_leaf=1, max_features=sqrt, max_depth=31, total=  10.4s\n",
      "[CV] n_estimators=394, min_samples_split=5, min_samples_leaf=1, max_features=sqrt, max_depth=31 \n",
      "[CV]  n_estimators=394, min_samples_split=5, min_samples_leaf=1, max_features=sqrt, max_depth=31, total=  10.6s\n",
      "[CV] n_estimators=394, min_samples_split=5, min_samples_leaf=1, max_features=sqrt, max_depth=31 \n",
      "[CV]  n_estimators=394, min_samples_split=5, min_samples_leaf=1, max_features=sqrt, max_depth=31, total=  10.5s\n",
      "[CV] n_estimators=331, min_samples_split=2, min_samples_leaf=1, max_features=auto, max_depth=31 \n",
      "[CV]  n_estimators=331, min_samples_split=2, min_samples_leaf=1, max_features=auto, max_depth=31, total=  26.3s\n",
      "[CV] n_estimators=331, min_samples_split=2, min_samples_leaf=1, max_features=auto, max_depth=31 \n",
      "[CV]  n_estimators=331, min_samples_split=2, min_samples_leaf=1, max_features=auto, max_depth=31, total=  26.0s\n",
      "[CV] n_estimators=331, min_samples_split=2, min_samples_leaf=1, max_features=auto, max_depth=31 \n",
      "[CV]  n_estimators=331, min_samples_split=2, min_samples_leaf=1, max_features=auto, max_depth=31, total=  26.1s\n",
      "[CV] n_estimators=468, min_samples_split=5, min_samples_leaf=2, max_features=sqrt, max_depth=15 \n",
      "[CV]  n_estimators=468, min_samples_split=5, min_samples_leaf=2, max_features=sqrt, max_depth=15, total=   9.9s\n",
      "[CV] n_estimators=468, min_samples_split=5, min_samples_leaf=2, max_features=sqrt, max_depth=15 \n",
      "[CV]  n_estimators=468, min_samples_split=5, min_samples_leaf=2, max_features=sqrt, max_depth=15, total=  10.0s\n",
      "[CV] n_estimators=468, min_samples_split=5, min_samples_leaf=2, max_features=sqrt, max_depth=15 \n",
      "[CV]  n_estimators=468, min_samples_split=5, min_samples_leaf=2, max_features=sqrt, max_depth=15, total=   9.7s\n",
      "[CV] n_estimators=468, min_samples_split=5, min_samples_leaf=4, max_features=auto, max_depth=None \n",
      "[CV]  n_estimators=468, min_samples_split=5, min_samples_leaf=4, max_features=auto, max_depth=None, total=  27.9s\n",
      "[CV] n_estimators=468, min_samples_split=5, min_samples_leaf=4, max_features=auto, max_depth=None \n",
      "[CV]  n_estimators=468, min_samples_split=5, min_samples_leaf=4, max_features=auto, max_depth=None, total=  27.6s\n",
      "[CV] n_estimators=468, min_samples_split=5, min_samples_leaf=4, max_features=auto, max_depth=None \n",
      "[CV]  n_estimators=468, min_samples_split=5, min_samples_leaf=4, max_features=auto, max_depth=None, total=  28.1s\n",
      "[CV] n_estimators=436, min_samples_split=2, min_samples_leaf=4, max_features=auto, max_depth=25 \n",
      "[CV]  n_estimators=436, min_samples_split=2, min_samples_leaf=4, max_features=auto, max_depth=25, total=  26.1s\n",
      "[CV] n_estimators=436, min_samples_split=2, min_samples_leaf=4, max_features=auto, max_depth=25 \n",
      "[CV]  n_estimators=436, min_samples_split=2, min_samples_leaf=4, max_features=auto, max_depth=25, total=  26.2s\n",
      "[CV] n_estimators=436, min_samples_split=2, min_samples_leaf=4, max_features=auto, max_depth=25 \n",
      "[CV]  n_estimators=436, min_samples_split=2, min_samples_leaf=4, max_features=auto, max_depth=25, total=  26.2s\n"
     ]
    },
    {
     "name": "stderr",
     "output_type": "stream",
     "text": [
      "[Parallel(n_jobs=1)]: Done 150 out of 150 | elapsed: 54.5min finished\n"
     ]
    },
    {
     "data": {
      "text/plain": [
       "RandomizedSearchCV(cv=3,\n",
       "                   estimator=RandomForestRegressor(n_estimators=300, n_jobs=-1,\n",
       "                                                   random_state=42),\n",
       "                   n_iter=50,\n",
       "                   param_distributions={'max_depth': [15, 18, 21, 25, 28, 31,\n",
       "                                                      35, None],\n",
       "                                        'max_features': ['auto', 'sqrt'],\n",
       "                                        'min_samples_leaf': [1, 2, 4],\n",
       "                                        'min_samples_split': [2, 3, 5],\n",
       "                                        'n_estimators': [300, 310, 321, 331,\n",
       "                                                         342, 352, 363, 373,\n",
       "                                                         384, 394, 405, 415,\n",
       "                                                         426, 436, 447, 457,\n",
       "                                                         468, 478, 489, 500]},\n",
       "                   random_state=42, verbose=2)"
      ]
     },
     "execution_count": 36,
     "metadata": {},
     "output_type": "execute_result"
    }
   ],
   "source": [
    "# Random search of parameters, using 3 fold cross validation, \n",
    "# search across 100 different combinations, and use all available cores\n",
    "\n",
    "# n_iter, which controls the number of different combinations to try, and cv which is the number of folds to use for cross validation\n",
    "rf_random = RandomizedSearchCV(estimator = random_model, param_distributions = random_grid, n_iter = 50, cv = 3, verbose=2, random_state=42)\n",
    "# Fit the random search model\n",
    "rf_random.fit(Xtrain, ytrain)"
   ]
  },
  {
   "cell_type": "code",
   "execution_count": 37,
   "metadata": {
    "colab": {
     "base_uri": "https://localhost:8080/"
    },
    "executionInfo": {
     "elapsed": 14,
     "status": "ok",
     "timestamp": 1624463584694,
     "user": {
      "displayName": "siddharth patra",
      "photoUrl": "https://lh3.googleusercontent.com/a-/AOh14Gjnwsdj5DKa95WHRl25dlQz9L1Bbc10vap4xTNIiA=s64",
      "userId": "01966341811263607507"
     },
     "user_tz": -330
    },
    "id": "qtSGS68bMhtJ",
    "outputId": "1f0c6e6f-7e4b-4b26-a63a-14aeb7ba500d"
   },
   "outputs": [
    {
     "data": {
      "text/plain": [
       "{'n_estimators': 394,\n",
       " 'min_samples_split': 2,\n",
       " 'min_samples_leaf': 1,\n",
       " 'max_features': 'sqrt',\n",
       " 'max_depth': 25}"
      ]
     },
     "execution_count": 37,
     "metadata": {},
     "output_type": "execute_result"
    }
   ],
   "source": [
    "rf_random.best_params_"
   ]
  },
  {
   "cell_type": "code",
   "execution_count": 38,
   "metadata": {
    "id": "6WOIaGF8eGuZ"
   },
   "outputs": [],
   "source": [
    "random_new = RandomForestRegressor(n_estimators = 394, min_samples_split = 2, min_samples_leaf = 1, max_features = 'sqrt',\n",
    "                                      max_depth = 25, bootstrap = True)"
   ]
  },
  {
   "cell_type": "code",
   "execution_count": 39,
   "metadata": {
    "colab": {
     "base_uri": "https://localhost:8080/"
    },
    "executionInfo": {
     "elapsed": 26080,
     "status": "ok",
     "timestamp": 1624463641706,
     "user": {
      "displayName": "siddharth patra",
      "photoUrl": "https://lh3.googleusercontent.com/a-/AOh14Gjnwsdj5DKa95WHRl25dlQz9L1Bbc10vap4xTNIiA=s64",
      "userId": "01966341811263607507"
     },
     "user_tz": -330
    },
    "id": "AxPHSZeSeUEZ",
    "outputId": "63116d0c-106e-4dc0-c226-49575d2c2805"
   },
   "outputs": [
    {
     "name": "stdout",
     "output_type": "stream",
     "text": [
      "95.31 %\n"
     ]
    }
   ],
   "source": [
    "#Fit\n",
    "random_new.fit(Xtrain, ytrain)\n",
    "\n",
    "y_pred1 = random_new.predict(Xtest)\n",
    "\n",
    "#Checking the accuracy\n",
    "random_model_accuracy1 = round(random_new.score(Xtrain, ytrain)*100,2)\n",
    "print(round(random_model_accuracy1, 2), '%')"
   ]
  },
  {
   "cell_type": "code",
   "execution_count": 40,
   "metadata": {
    "colab": {
     "base_uri": "https://localhost:8080/"
    },
    "executionInfo": {
     "elapsed": 1393,
     "status": "ok",
     "timestamp": 1624463723323,
     "user": {
      "displayName": "siddharth patra",
      "photoUrl": "https://lh3.googleusercontent.com/a-/AOh14Gjnwsdj5DKa95WHRl25dlQz9L1Bbc10vap4xTNIiA=s64",
      "userId": "01966341811263607507"
     },
     "user_tz": -330
    },
    "id": "JCdRpS1dehw6",
    "outputId": "2a4179a5-48e5-4e67-925e-1df531a2367f"
   },
   "outputs": [
    {
     "name": "stdout",
     "output_type": "stream",
     "text": [
      "67.39 %\n"
     ]
    }
   ],
   "source": [
    "#Checking the accuracy\n",
    "random_model_accuracy2 = round(random_new.score(Xtest, ytest)*100,2)\n",
    "print(round(random_model_accuracy2, 2), '%')"
   ]
  },
  {
   "cell_type": "code",
   "execution_count": 41,
   "metadata": {
    "id": "mERn5dVVsKQq"
   },
   "outputs": [],
   "source": [
    "# Save the trained model as a pickle string.\n",
    "saved_model = pickle.dump(random_new, open('ForestModel.pickle','wb'))"
   ]
  },
  {
   "cell_type": "code",
   "execution_count": 6,
   "metadata": {},
   "outputs": [],
   "source": [
    "# # Load the pickled model - \n",
    "reg_from_pickle = pickle.load(saved_model)\n",
    "# # Use the loaded pickled model to make predictions\n",
    "# # reg_from_pickle.predict(X_test)"
   ]
  },
  {
   "cell_type": "markdown",
   "metadata": {},
   "source": [
    "### bz2file\n",
    "\n",
    "Here comes the cherry on the cake part (bonus of this article). Let's understand what this bz2file module is all about.\n",
    "Let's get started !\n",
    "\n",
    "### What is bz2file\n",
    "\n",
    "bz2file is one of the modules in python which are responsible for compression and decompression of files, hence it can help in decreasing the serialized or deserialized file to smaller size which will be very helpful in long run when we have large datasets\n",
    "\n",
    "### How bz2file is helpful here?\n",
    "\n",
    "As we know that our dataset is 2.7+ MB and our Random forest model is whooping 700+ MB so we need to compress that so that that model won't be leading as an hectic situation for storage."
   ]
  },
  {
   "cell_type": "code",
   "execution_count": 45,
   "metadata": {
    "colab": {
     "base_uri": "https://localhost:8080/"
    },
    "executionInfo": {
     "elapsed": 7641,
     "status": "ok",
     "timestamp": 1624463981747,
     "user": {
      "displayName": "siddharth patra",
      "photoUrl": "https://lh3.googleusercontent.com/a-/AOh14Gjnwsdj5DKa95WHRl25dlQz9L1Bbc10vap4xTNIiA=s64",
      "userId": "01966341811263607507"
     },
     "user_tz": -330
    },
    "id": "UhI5_3yBZbMI",
    "outputId": "2e93b522-fbfd-404c-8df8-226b9550dc7a",
    "scrolled": true
   },
   "outputs": [
    {
     "name": "stdout",
     "output_type": "stream",
     "text": [
      "Collecting bz2file\n",
      "  Downloading bz2file-0.98.tar.gz (11 kB)\n",
      "Building wheels for collected packages: bz2file\n",
      "  Building wheel for bz2file (setup.py): started\n",
      "  Building wheel for bz2file (setup.py): finished with status 'done'\n",
      "  Created wheel for bz2file: filename=bz2file-0.98-py3-none-any.whl size=6888 sha256=6346c435b208d78941d2c6705178e89f969f3a093f8a9a753093202be4822178\n",
      "  Stored in directory: c:\\users\\pc\\appdata\\local\\pip\\cache\\wheels\\19\\88\\ce\\c9430af242507ffff602cf86c5ff6a1ae5205cba5aaf21f6cc\n",
      "Successfully built bz2file\n",
      "Installing collected packages: bz2file\n",
      "Successfully installed bz2file-0.98\n",
      "Note: you may need to restart the kernel to use updated packages.\n"
     ]
    }
   ],
   "source": [
    "pip install bz2file"
   ]
  },
  {
   "cell_type": "code",
   "execution_count": 46,
   "metadata": {
    "id": "DzxZCfNknswt"
   },
   "outputs": [],
   "source": [
    "# Hence I installed bz2file, which is used to compress data. This is a life saving package for those who have low spaces on\n",
    "# their disk but want to store or use large datasets. Now the pickled file was over 700 mb in size which when used bz2\n",
    "# compressed in into a file of size 93 mb."
   ]
  },
  {
   "cell_type": "code",
   "execution_count": 48,
   "metadata": {
    "id": "L_M3_tIXmz0t"
   },
   "outputs": [],
   "source": [
    "import bz2\n",
    "\n",
    "compressionLevel = 9\n",
    "source_file = 'ForestModel.pickle' # this file can be in a different format, like .csv or others...\n",
    "destination_file = 'ForestModel.bz2'\n",
    "\n",
    "with open(source_file, 'rb') as data:\n",
    "    tarbz2contents = bz2.compress(data.read(), compressionLevel)\n",
    "    \n",
    "fh = open(destination_file, \"wb\")\n",
    "fh.write(tarbz2contents)\n",
    "fh.close()"
   ]
  }
 ],
 "metadata": {
  "colab": {
   "authorship_tag": "ABX9TyMZxmDvy2ypAS3vB1TCQEE1",
   "collapsed_sections": [],
   "name": "Forest Fires.ipynb",
   "provenance": []
  },
  "kernelspec": {
   "display_name": "Python 3",
   "language": "python",
   "name": "python3"
  },
  "language_info": {
   "codemirror_mode": {
    "name": "ipython",
    "version": 3
   },
   "file_extension": ".py",
   "mimetype": "text/x-python",
   "name": "python",
   "nbconvert_exporter": "python",
   "pygments_lexer": "ipython3",
   "version": "3.8.5"
  },
  "varInspector": {
   "cols": {
    "lenName": 16,
    "lenType": 16,
    "lenVar": 40
   },
   "kernels_config": {
    "python": {
     "delete_cmd_postfix": "",
     "delete_cmd_prefix": "del ",
     "library": "var_list.py",
     "varRefreshCmd": "print(var_dic_list())"
    },
    "r": {
     "delete_cmd_postfix": ") ",
     "delete_cmd_prefix": "rm(",
     "library": "var_list.r",
     "varRefreshCmd": "cat(var_dic_list()) "
    }
   },
   "types_to_exclude": [
    "module",
    "function",
    "builtin_function_or_method",
    "instance",
    "_Feature"
   ],
   "window_display": false
  }
 },
 "nbformat": 4,
 "nbformat_minor": 1
}
